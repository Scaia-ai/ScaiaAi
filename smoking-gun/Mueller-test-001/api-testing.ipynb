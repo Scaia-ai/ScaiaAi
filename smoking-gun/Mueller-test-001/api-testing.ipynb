{
 "cells": [
  {
   "cell_type": "markdown",
   "metadata": {
    "toc": true
   },
   "source": [
    "<h1>Table of Contents<span class=\"tocSkip\"></span></h1>\n",
    "<div class=\"toc\"><ul class=\"toc-item\"><li><span><a href=\"#Request-Url\" data-toc-modified-id=\"Request-Url-1\"><span class=\"toc-item-num\">1&nbsp;&nbsp;</span>Request Url</a></span></li><li><span><a href=\"#Case-Id's-(caseUUID)-for-Datasets-available\" data-toc-modified-id=\"Case-Id's-(caseUUID)-for-Datasets-available-2\"><span class=\"toc-item-num\">2&nbsp;&nbsp;</span>Case Id's (caseUUID) for Datasets available</a></span><ul class=\"toc-item\"><li><ul class=\"toc-item\"><li><span><a href=\"#&quot;CUUID001&quot;:&quot;freed&quot;\" data-toc-modified-id=\"&quot;CUUID001&quot;:&quot;freed&quot;-2.0.1\"><span class=\"toc-item-num\">2.0.1&nbsp;&nbsp;</span>\"CUUID001\":\"freed\"</a></span></li><li><span><a href=\"#&quot;CUUID002&quot;:&quot;enron&quot;\" data-toc-modified-id=\"&quot;CUUID002&quot;:&quot;enron&quot;-2.0.2\"><span class=\"toc-item-num\">2.0.2&nbsp;&nbsp;</span>\"CUUID002\":\"enron\"</a></span></li></ul></li></ul></li><li><span><a href=\"#Request-Format\" data-toc-modified-id=\"Request-Format-3\"><span class=\"toc-item-num\">3&nbsp;&nbsp;</span>Request Format</a></span></li><li><span><a href=\"#All-data-&amp;-models-sample-testing\" data-toc-modified-id=\"All-data-&amp;-models-sample-testing-4\"><span class=\"toc-item-num\">4&nbsp;&nbsp;</span>All data &amp; models sample testing</a></span><ul class=\"toc-item\"><li><span><a href=\"#Freed---Doc2vec-Test\" data-toc-modified-id=\"Freed---Doc2vec-Test-4.1\"><span class=\"toc-item-num\">4.1&nbsp;&nbsp;</span>Freed - Doc2vec Test</a></span></li><li><span><a href=\"#Freed---Bert-Jaccard-Test\" data-toc-modified-id=\"Freed---Bert-Jaccard-Test-4.2\"><span class=\"toc-item-num\">4.2&nbsp;&nbsp;</span>Freed - Bert-Jaccard Test</a></span></li><li><span><a href=\"#Freed---Bert-Cosine-Test\" data-toc-modified-id=\"Freed---Bert-Cosine-Test-4.3\"><span class=\"toc-item-num\">4.3&nbsp;&nbsp;</span>Freed - Bert-Cosine Test</a></span></li><li><span><a href=\"#Enron---Doc2vec-Test\" data-toc-modified-id=\"Enron---Doc2vec-Test-4.4\"><span class=\"toc-item-num\">4.4&nbsp;&nbsp;</span>Enron - Doc2vec Test</a></span></li><li><span><a href=\"#Enron---Bert-Jaccard-Test\" data-toc-modified-id=\"Enron---Bert-Jaccard-Test-4.5\"><span class=\"toc-item-num\">4.5&nbsp;&nbsp;</span>Enron - Bert-Jaccard Test</a></span></li><li><span><a href=\"#Enron---Bert-Cosine-Test\" data-toc-modified-id=\"Enron---Bert-Cosine-Test-4.6\"><span class=\"toc-item-num\">4.6&nbsp;&nbsp;</span>Enron - Bert-Cosine Test</a></span></li></ul></li></ul></div>"
   ]
  },
  {
   "cell_type": "markdown",
   "metadata": {},
   "source": [
    "# Request Url"
   ]
  },
  {
   "cell_type": "code",
   "execution_count": 1,
   "metadata": {},
   "outputs": [],
   "source": [
    "import json, socket, requests"
   ]
  },
  {
   "cell_type": "code",
   "execution_count": 2,
   "metadata": {},
   "outputs": [],
   "source": [
    "base_url    = 'http://3.14.125.217:12345/aiAdvisor'\n",
    "\n",
    "headers = {\"Content-Type\": \"application/json\"}"
   ]
  },
  {
   "cell_type": "markdown",
   "metadata": {},
   "source": [
    "# Case Id's (caseUUID) for Datasets available"
   ]
  },
  {
   "cell_type": "markdown",
   "metadata": {},
   "source": [
    "### \"CUUID001\":\"freed\" \n",
    "    for usage of freed dataset\n",
    "### \"CUUID002\":\"enron\" \n",
    "    for usage of enron dataset"
   ]
  },
  {
   "cell_type": "markdown",
   "metadata": {},
   "source": [
    "# Request Format\n",
    "    {\"caseUUID\":\"<CUUID###>\",\n",
    "    \"modelType\": str, # available = doc2vec, bertJaccard, bertCosine\n",
    "    \"threshold\": int,\n",
    "    \"document\":\"<search query>\"}"
   ]
  },
  {
   "cell_type": "markdown",
   "metadata": {},
   "source": [
    "# All data & models sample testing"
   ]
  },
  {
   "cell_type": "markdown",
   "metadata": {},
   "source": [
    "## Freed - Doc2vec Test"
   ]
  },
  {
   "cell_type": "code",
   "execution_count": 18,
   "metadata": {
    "scrolled": true
   },
   "outputs": [
    {
     "name": "stdout",
     "output_type": "stream",
     "text": [
      "{\n",
      "    \"1\": {\n",
      "        \"distance\": 0.7061974406242371,\n",
      "        \"filename\": \"UPI_01795_6.eml.txt\",\n",
      "        \"text\": \"\\n\\nGentlemen,\\n\\n\\n\\nAttached is the latest version to ENA's form of \\\"Schedule to ISDA Master Agreement\\\".  This document has been upgraded to include our new \\\"set-off\\\" provision.\\n\\n\\n\\nFor your convenience, I have attached a redlined version, so you can track the set-off language changes made therein.\\n\\n\\n\\n \\n\\n\\n\\n\\n\\n\\n\\nRegards,\\n\\nSusan S. Bailey\\n\\nSenior Legal Specialist\\n\\nEnron Wholesale Services\\n\\nLegal Department\\n\\n1400 Smith Street, Suite 3803A\\n\\nHouston, Texas 77002\\n\\nphone: (713) 853-4737\\n\\nfax: (713) 646-3490\\n\\nemail: susan.bailey@ enron.com\\n\\n\\n\\n***********\\n\\nEDRM Enron Email Data Set has been produced in EML, PST and NSF format by ZL Technologies, Inc. This Data Set is licensed under a Creative Commons Attribution 3.0 United States License <http://creativecommons.org/licenses/by/3.0/us/> . To provide attribution, please cite to \\\"ZL Technologies, Inc. (http://www.zlti.com).\\\"\\n\\n***********\\n\\n\\n\\n\\n\\n\\n\\n\\n\"\n",
      "    },\n",
      "    \"uuid\": \"UPI_01864_59\",\n",
      "    \"2\": {\n",
      "        \"distance\": 0.6940459609031677,\n",
      "        \"filename\": \"UPI_00838_703.eml.txt\",\n",
      "        \"text\": \"Credit Support Annex and Paragraph 13\\n\\n\\n\\n***********\\n\\nEDRM Enron Email Data Set has been produced in EML, PST and NSF format by ZL Technologies, Inc. This Data Set is licensed under a Creative Commons Attribution 3.0 United States License <http://creativecommons.org/licenses/by/3.0/us/> . To provide attribution, please cite to \\\"ZL Technologies, Inc. (http://www.zlti.com).\\\"\\n\\n***********\\n\\n\\n\\n\\n\\n\\n\\n\\n\"\n",
      "    },\n",
      "    \"3\": {\n",
      "        \"distance\": 0.6876635551452637,\n",
      "        \"filename\": \"UPI_02143_263.eml.txt\",\n",
      "        \"text\": \"\\n\\nGuys,\\n\\n\\n\\nEsmeralda will be out sick today -- Tuesday, February 12th.\\n\\n\\n\\n\\n\\nCordially, \\n\\nSusan S. Bailey\\n\\nEnron North America Corp.\\n\\n1400 Smith Street, Suite 3803A\\n\\nHouston, Texas 77002\\n\\nPhone: (713) 853-4737\\n\\nFax: (713) 646-3490\\n\\nEmail: Susan.Bailey@enron.com\\n\\n\\n\\n***********\\n\\nEDRM Enron Email Data Set has been produced in EML, PST and NSF format by ZL Technologies, Inc. This Data Set is licensed under a Creative Commons Attribution 3.0 United States License <http://creativecommons.org/licenses/by/3.0/us/> . To provide attribution, please cite to \\\"ZL Technologies, Inc. (http://www.zlti.com).\\\"\\n\\n***********\\n\\n\\n\\n\\n\\n\\n\\n\\n\"\n",
      "    },\n",
      "    \"4\": {\n",
      "        \"distance\": 0.685110330581665,\n",
      "        \"filename\": \"UPI_01864_59.eml.txt\",\n",
      "        \"text\": \"\\n\\nPat,\\n\\n\\n\\nHope you had a lovely Thanksgiving??\\n\\n\\n\\nPlease be advised -- I will be UNABLE to attend the Board Orientation Meeting.\\n\\n\\n\\n\\n\\nRegards,\\n\\nSusan S. Bailey\\n\\nSenior Legal Specialist\\n\\nEnron Wholesale Services\\n\\nLegal Department\\n\\n1400 Smith Street, Suite 3803A\\n\\nHouston, Texas 77002\\n\\nphone: (713) 853-4737\\n\\nfax: (713) 646-3490\\n\\nemail: susan.bailey@ enron.com\\n\\n\\n\\n***********\\n\\nEDRM Enron Email Data Set has been produced in EML, PST and NSF format by ZL Technologies, Inc. This Data Set is licensed under a Creative Commons Attribution 3.0 United States License <http://creativecommons.org/licenses/by/3.0/us/> . To provide attribution, please cite to \\\"ZL Technologies, Inc. (http://www.zlti.com).\\\"\\n\\n***********\\n\\n\\n\\n\\n\\n\\n\\n\\n\"\n",
      "    }\n",
      "}\n"
     ]
    }
   ],
   "source": [
    "input_json = {\"caseUUID\":\"CUUID001\",\n",
    "              \"modelType\": \"doc2vec\",\n",
    "              \"threshold\": 4,\n",
    "              \"document\":\"2 of our counterparties are writing letters of complaint.. here's a sample of some of the quotes we have heard from the 10 counterparties we have added in the last 6 months. \"}\n",
    "\n",
    "payload = json.dumps(input_json)\n",
    "\n",
    "r = requests.post(base_url, headers=headers, data=payload)\n",
    "print(json.dumps(json.loads(r.content), indent=4))"
   ]
  },
  {
   "cell_type": "markdown",
   "metadata": {},
   "source": [
    "## Freed - Bert-Jaccard Test"
   ]
  },
  {
   "cell_type": "code",
   "execution_count": 19,
   "metadata": {},
   "outputs": [
    {
     "name": "stdout",
     "output_type": "stream",
     "text": [
      "{\n",
      "    \"1\": {\n",
      "        \"distance\": 0.0,\n",
      "        \"doc_index\": \"UPI_00939_801-EthicalWallProcedures.doc.txt\",\n",
      "        \"text\": \"ENRON CORP.\\n ETHICAL WALL PROCEDURES REGARDING CONFIDENTIAL INFORMATION RELATING TO PACIFIC GAS AND ELECTRIC COMPANY\\n June 6, 2001\\n I.\\n INTRODUCTION\\n This Memorandum sets forth the policies and procedures of Enron Corp. and its affiliates (\\u201cEnron\\u201d) with respect to procedures regarding confidential, non-public information relating to Pacific Gas and Electric Company (\\u201cPG&E\\u201d).  These policies and procedures (the \\u201cEthical Wall Procedures\\u201d)\\n  are intended to:\\n \\u00b7 prevent the misuse of confidential, non-public information obtained by the representative(s) of Enron (\\u201cCommittee Personnel\\u201d) who are designated to serve on the Official Committee of Unsecured Creditors of PG&E (the \\u201cCommittee\\u201d) appointed in the bankruptcy proceedings of PG&E in connection with Committee-related activities;\\n \\u00b7 allow Enron to publish research and to execute transactions in Affected Securities  and Affected Commodities (as defined below);\\n \\u00b7 prevent Committee Personnel from receiving certain information regarding trading and research activity by Enron relating to PG&E; and\\n \\u00b7 preclude legal liability for Enron and its employees.\\n All Committee Personnel and Trading and Research Personnel (as defined below) are expected to be familiar with, and follow, the policies and procedures set forth in this Memorandum.  Attached to this Memorandum is a Certificate of Notification to be signed by each applicable employee as a statement that he or she has been notified in writing of his or her responsibility to comply with the Ethical Wall Procedures.\\n II.\\n THE ETHICAL WALL PROCEDURES\\n A.\\n Need for Ethical Wall Procedures.\\n PG&E filed a petition for bankruptcy on April 6, 2001 in the United States Bankruptcy Court for the Northern District of California, San Francisco Division (the \\u201cCourt\\u201d).  Enron has been appointed by the United States Trustee to be one of the eleven (11) members of the Committee.  Enron has designated an employee to serve as its representative on the Committee and may from time to time designate other or additional representatives.  As a member of the Committee, Enron may receive confidential non-public information regarding PG&E, which may be subject to the legal prohibitions on insider trading and \\u201ctipping\\u201d of material, non-public information.  Communication of Confidential Committee Information (as defined below) by Committee Personnel to Trading and Research Personnel and communication of certain information relating to PG&E by Trading and Research Personnel to Committee Personnel may cause Enron to violate its fiduciary duties as a Committee member and subject Enron to adverse treatment in the bankruptcy proceedings. \\n \\u201cAffected Commodities\\u201d means gas, power, coal, and other commodities, including without limitation, physical, financial, derivative and other transactions and products, involving or related to PG&E and its affiliates, or in the markets in which PG&E or its affiliates conduct the same or similar operations or in other markets.\\n  \\u201cAffected Securities\\u201d means stock, notes, bonds, debentures, commercial paper, bank debt, credit derivatives and participations in any of the debt obligations of PG&E and its affiliates.\\n  \\u201cConfidential Committee Information\\u201d means all confidential non-public information relating to PG&E received by Committee Personnel in connection with Committee-related activities.\\n \\u201cTrading and Research Personnel\\u201d are employees who are engaged in preparing and publishing research and in effecting or consummating trades on a day-to-day basis in Affected Securities or Affected Commodities or employees to whom such trading employees directly report. \\n B.\\n Maintaining the Ethical Wall Procedures.\\n The Ethical Wall Procedures consist of: (i) specific procedures if Committee Personnel seek to provide another employee with Confidential Committee Information, (ii) special procedures if Trading and Research Personnel seek to provide certain information relating to PG&E to Committee Personnel, and (iii) procedures for safeguarding Confidential Committee Information. \\n 1.\\n Specific Procedures if Committee Personnel Seek to Provide Confidential Committee Information.\\n If Committee Personnel seek to pass Confidential Committee Information to another employee (other than Committee Personnel), he or she must first contact the Review Team.  The Review Team may approve the passing of some or all Confidential Committee Information (including prospectively) if it determines that the recipient is an employee with responsibilities concerning the work or activities of Committee Personnel with respect to his or her participation as Enron\\u2019s representative(s) on the Committee, employees providing assistance to Committee Personnel with respect to his or her participation as Enron\\u2019s representative(s) on the Committee, and regulatory and compliance personnel, auditors and in-house legal personnel for the purpose of rendering regulatory, compliance, audit or legal advice, but in each case excluding Trading and Research Personnel.  Employees who receive Confidential Committee Information in compliance with the above procedures may not pass Confidential Committee Information to any other employee without first contacting the Review Team, who may only approve the further passing of Confidential Committee Information in compliance with the above procedures.  No Confidential Committee Information shall be provided to any employee unless such proposed recipient has signed a Certificate of Notification acknowledging his or her responsibility to comply with the Ethical Wall Procedures.    The Review Team is a group of employees of the Enron Legal Department as follows: \\n Rex Rogers\\n Vice President and Assistant General Counsel \\u2013 Enron Corp.\\n W. Lance Schuler\\n Vice President & Assistant General Counsel - Enron North America Corp.\\n Robert Bruce\\n Senior Counsel - Enron North America Corp.\\n 2.\\n Special Procedures if Trading and Research Personnel Seek to Provide Information Relating to PG&E to Committee Personnel. \\n If Trading and Research Personnel seek to provide Committee Personnel with information regarding trades in or research related to Affected Securities or Affected Commodities, they must first obtain the approval of the Review Team unless the information relates to (i) research reports regarding Affected Securities or Affected Commodities, after they have been made public, (ii) trades in Affected Securities or Affected Commodities after such trades have been effectuated, and (iii) trades in Affected Commodities other than trades with PG&E, if such information is furnished in connection with rendering legal advice as to such trades.  The Review Team may approve the passing of, among other things, usual and customary internal and public reports of Enron\\u2019s purchases and sales and the amount and type of securities and commodities owned by Enron, including the Affected Securities and Affected Commodities.\\n If Committee Personnel inadvertently receive information in violation of these procedures and prior to such information being released to the public, such personnel shall, in consultation with the Enron Legal Department, promptly disclose the receipt of such information to the Committee (without disclosing the information itself) and abstain from voting on any matter in the PG&E bankruptcy proceeding that might be affected by such non-public information.\\n 3.\\n Procedures for Safeguarding Confidential Committee Information.\\n Committee Personnel and all other employees receiving Confidential Committee Information must keep such information in files that cannot be accessed by other employees.  Details regarding the safeguarding of such files should be determined in consultation with the Enron Legal Department. \\n C.\\n Periodic Compliance Review.\\n The Ethical Wall Procedures are subject to periodic review by the Review Team and the Enron Compliance Department.  The Review Team and the Enron Compliance Department are required to maintain records of their review.\\n \\ufffd\\tThere are separate policies and procedures that govern the passing of business information (unrelated to PG&E) between different business groups within Enron. \\n O:\\\\legal\\\\lmellen\\\\PG&E\\\\EthicalWallProcedures.doc\\n PAGE  \\n 4\\n O:\\\\Legal\\\\lmellen\\\\PG&E\\\\EthicalWallProcedures2.doc\\n\",\n",
      "        \"uuid\": \"UPI_00939_801\"\n",
      "    },\n",
      "    \"2\": {\n",
      "        \"distance\": 0.0,\n",
      "        \"doc_index\": \"UPI_00021_22.html.txt\",\n",
      "        \"text\": \"\\t\\t<prev\\u00a0\\n \\u00a0next>\\n *IBM Confidential: Re: Size limit: msg#00013\\n linux.file-systems.cifs\\n Subject: \\t\\n *IBM Confidential: Re: Size limit\\n CIFS supports files greater than 2GB in size, as do most modern CIFS servers.\\n Steve French\\n Senior Software Engineer\\n Linux Technology Center - IBM Austin\\n phone: 512-838-2294\\n email: sfrench at-sign us dot ibm dot com_______________________________________________\\n linux-cifs-client mailing list\\n linux-cifs-client@xxxxxxxxxxxxxxx\\n https://lists.samba.org/mailman/listinfo/linux-cifs-client\\n \\t<Prev\\u00a0in\\u00a0Thread]\\tCurrent\\u00a0Thread\\t[Next\\u00a0in\\u00a0Thread>\\n \\tPrevious\\u00a0by\\u00a0Date:\\u00a0\\tRE: why would session setup fail on subsequent\\tattempts, Naidu Bollineni\\n \\tNext\\u00a0by\\u00a0Date:\\u00a0\\tRE: why would session setup fail on subsequent\\tattempts, Steven French\\n \\tPrevious\\u00a0by\\u00a0Thread:\\u00a0\\tRE: why would session setup fail on subsequent\\tattempts, Naidu Bollineni\\n \\tNext\\u00a0by\\u00a0Thread:\\u00a0\\tAsync io support., Jeremy Allison\\n \\tIndexes:\\u00a0\\t[Date]\\n [Thread]\\n [Top]\\n [All\\u00a0Lists]\\n Related Threads on FossPlanet:\\n \\tRe [GD-Linux] X mouse/keyboard grabs \\n \\tRe [GD-Linux] X mouse/keyboard grabs \\n \\tRe [GD-Linux] X mouse/keyboard grabs \\n \\tRe [GD-Linux] X mouse/keyboard grabs \\n \\tRe [GD-Linux] X mouse/keyboard grabs \\n Choosing A Webhost:\\n A web hosting service is a type of Internet hosting service that allows individuals and organizations to provide their own website accessible via the World Wide Web. Web hosts are companies that provide space on a server they own for use by their clients as well as providing Internet connectivity, typically in a data center. Web hosts can also provide data center space and connectivity to the Internet for servers they do not own to be located in their data center, called colocation. more...\\n Free Magazines\\n Cisco News\\n Receive a free quarterly e-newsletter with exclusive articles on how Cisco IT uses its own products and solutions to enable the business.\\n subscribe\\n Systems Management News, the newspaper for IT systems administration and data center managers!\\n Each issue of Systems Management News is chock-full of news and analysis to help you understand what's happening in your field.\\n subscribe\\n The Enterprise Newsweekly\\n eWeek is the essential technology information source for builders of e-business.\\n subscribe\\n Oracle Magazine\\n Oracle Magazine contains technology strategy articles, sample code, tips, Oracle and partner news, how to articles for developers and DBAs, and more. Oracle (NASDAQ: ORCL) is the world's largest enterprise software company.\\n subscribe\\n Total Telecom\\n Total Telecom is \\\"The Economist of the communications industry\\\".\\n subscribe\\n sitemap | FAQ | advertise \\n\",\n",
      "        \"uuid\": \"UPI_00021_22\"\n",
      "    },\n",
      "    \"3\": {\n",
      "        \"distance\": 0.0,\n",
      "        \"doc_index\": \"UPI_00022_23.htm.txt\",\n",
      "        \"text\": \"Log in | Sign up | Members' privileges\\n \\tMobile edition\\n \\tHome\\n \\tNews\\n \\tInsight\\n \\tReviews\\n \\tTechGuides\\n \\tJobs\\n \\tBlogs\\n \\tVideos\\n \\tCommunity\\n \\tDownloads\\n \\tIT Library\\n \\tZDNet Asia Top Tech Index\\n Software\\u00a0|\\u00a0\\n Hardware\\u00a0|\\u00a0\\n Security\\u00a0|\\u00a0\\n Communications\\u00a0|\\u00a0\\n Business\\u00a0|\\u00a0\\n Internet\\u00a0|\\u00a0\\n Photos\\u00a0|\\u00a0\\n Search All\\n News\\n Insight\\n Reviews\\n Blogs\\n TechGuides\\n Photo Gallery\\n Videos\\n Jobs\\n IT Library\\n Downloads\\n Go\\n News \\n Software\\n IBM: Proprietary technology not enough\\n By Stephen Shankland, CNET News.com\\n Thursday, April 07, 2005 08:33 AM\\n SAN FRANCISCO--IBM, the company with more intellectual property than any of \\n its competitors, believes it's time to learn how to share. \\n Irving Wladawsky-Berger, vice president of technology and strategy at IBM, \\n said the days are gone when a company could get by on its own. Now, cooperation \\n is the order of the day, he said at the Open \\n Source Business Conference here. \\n \\\"In the old days, maybe 10 years ago, a business thought everything they did \\n had to be proprietary and intellectual property (IP) had to be protected against \\n all comers,\\\" Wladawsky-Berger said. Now, though, \\\"if you really want to tap into \\n the energy of communities out there, you need to balance your proprietary \\n approach to IP with a much more open, collaborative approach.\\\" \\n IBM itself has taken a mixed approach to the open-source idea. \\n It's aggressively promoted Linux for years and assigned hundreds of \\n programmers to improve it. It also launched the Eclipse \\n programming tool project. At the same time, IBM sells a lot of proprietary \\n software, including its WebSphere business software and DB2 database. \\n When it comes to legal actions, IBM also is mixed. The company permits use of \\n 500 \\n patents for open-source projects, but continues to win more patent \\n awards than any competitor. \\n In his speech, Wladawsky-Berger described \\\"a new kind of innovation cycle\\\" in \\n which companies move ahead of an expanding wave of open-source software. \\n \\\"A big part of your power is to have your people work with the communities \\n and donate some of your intellectual property to those communities so they can \\n get better. Then you build proprietary offerings on top of the open-source \\n platform,\\\" he said. \\\"Those proprietary offerings at some point will lose thier \\n value as proprietary offerings. Then there probably will be more value donating \\n it to an open-source community, and on and on and on.\\\" \\n The executive isn't alone in his views. Tuesday, Sun \\n Microsystems President Jonathan Schwartz described what he called the \\n \\\"participation age\\\" based on open-source software and its ability to draw new \\n programmers and new economies into the computing realm. \\n And Novell, which bought its way into the open-source realm with the \\n acquisitions of Ximian and Suse Linux, also believes in a hybrid approach. \\n Novell executives have described open-source software as a rising water level; \\n proprietary software above that level can be sold for a time before eventually \\n being swamped.\\n \\tSee also:\\u00a0\\n Open source\\t\\n \\t+ Add tag\\n       To add tags, you need to become a member. It's FREE. \\n           \\tLog in or sign up now!\\n           \\tCancel\\n WORTHWHILE? \\n 0\\n 0 votes\\n \\u00a0\\u00a0Save to My Library\\u00a0\\u00a0\\n \\tTalkback\\n \\tPrint\\n \\tE-mail\\n \\tShare\\n \\tAlerts\\n           Slashdot\\n           Digg this\\n       close this\\n Talkback 0 comments \\n       There are currently no comments for this post.\\n     \\tReply to story\\n \\tReport offensive comment\\n Related Whitepapers\\n \\tConfiguring and Managing Software RAID With Red Hat Enterprise Linux 3\\n \\tOpen Source Email Security Solutions: 10 Questions\\n \\tBuild a WAP Gateway on Linux: Basic Steps for Setting Up a WAP Gateway\\n Tech Jobs Now!\\n \\tSales Business Development  Medical & Palliative Software Sales \\n \\tPost Production Software  Business Development \\n \\tSoftware Development \\n \\tBusiness Development Consultant  /  Software Sales \\n \\tSenior Web Application Developer / designer \\n Search for your ideal tech job: \\n \\tNews from Countries/Region\\n \\t\\u00bb\\u00a0Singapore\\n \\t\\u00bb\\u00a0Malaysia\\n \\t\\u00bb\\u00a0Thailand\\n \\t\\u00bb\\u00a0India\\n \\t\\u00bb\\u00a0Philippines\\n \\t\\u00bb\\u00a0Indonesia\\n \\t\\u00bb\\u00a0China/HK/ROC\\n \\t\\u00bb\\u00a0ASEAN\\n \\t\\u00bb\\u00a0Asia Pacific\\n \\tWhat's Hot\\n \\tLatest News\\n \\tOpen source cuts across Sun's growth strategy\\n \\tLinux losing netbook ground\\n \\tTomTom joins open source patent collective\\n \\tMix 09: Silverlight 3 takes center stage\\n \\tMicrosoft launches IE 8 with a smile\\n \\tNovell releases Suse Linux Enterprise 11\\n \\tGoogle taps student developers for OSS\\n \\tVMware shows mobile-based virtual management tool\\n \\tTomTom joins open source patent collective\\n \\tTomTom countersues Microsoft in patent dispute\\n TechGuides\\n Create a risk contingency budget with Expected Monetary Value\\n Learn how the Expected Monetary Value technique provides a formula for determining the right amount of budget to apply to the risk contingency budget.\\n Read more \\u00bb\\n \\tWhiteboard\\n \\tNews and Interviews\\n \\tSpecials\\n Running desktop virtualization\\n Pros and cons of virtual desktop infrastructure\\n  Play video \\n RISC server consolidation\\n Why are organizations consolidating RISC servers onto Intel\\u00ae Xeon\\u00ae servers?\\n  Play video \\n \\t\\t\\u00a0Featured Videos\\n \\t\\tIntel Integrated Performance Primitives\\n A collection of routines that get better performance than simply using an optimising compiler on equivalent code. \\n \\tSponsored by \\n Adobe CIO: The future of RIAs\\n Developing new ways to collaborate\\n  Play video \\n iPhone: Push notification\\n Real-time alerts via OS 3.0\\n  Play video \\n Hospital of the future\\n IT is breaking down barriers to better patient care like never before.\\n  Play video \\n Chinese PC market outlook\\n With a population of 1.3 billion, China is a haven for tech marketers.\\n  Play video \\n \\tImplement a cost-effective IT infrastructure\\n Learn about flexible RISC and mainframe replacements.\\n \\u00bb Mission-critical blades for high performance \\n  \\u00bb Meet real-time business demands\\n  \\u00bb Implement an energy-efficient IT environment\\n \\tOn demand CRM goes strategic\\n CRM technology has come of age, and is now able to align with your customer strategy and grow in step with your business.\\n \\u00bb Learn more about Oracle\\u2019s CRM Solutions\\n  Latest from Blog Central\\n Do US and Europe need the Nano?\\n During the mid- and late-1990s, multinational carmakers were launching older editions of their hot-selling cars in the Indian market. Rumors were that some MNCs even brought in their junked plant.....  by Swati Prasad \\n Read more \\u00bb\\n Tags\\n \\tantivirus\\n \\tapple ipod\\n \\tapple macintosh\\n \\tcnet networks inc.\\n \\tcontent - disposition\\n \\tdesktop\\n \\te - mail\\n \\tintuit inc.\\n \\tmicrosoft corp.\\n \\tmicrosoft windows\\n \\tmicrosoft windows vista\\n \\tnorton co.\\n \\toperating system\\n \\tpc\\n \\tperformance\\n \\tsecurity\\n \\tsoftware\\n \\ttool\\n \\tweb\\n \\tweb site\\n What's important from our sponsors\\n Reduce IT operational costs with HP Business Service Automation\\n Surveys\\n  What experts around the world have to say about automation\\n  The benefits of HP BSA, according to customers\\n Case Study\\n  Learn how AMD and NSRI saved operational costs and improved service levels\\n Sponsored by\\n Cutting-edge technology from premium sponsors\\n Quality matters to IT & Business\\n 3 Reasons to Rethink QA\\n Function\\n  Establish a structured or automated testing base\\n Security\\n  Mitigate risks and maintain security cost-effectively\\n Performance\\n  Validate scalability and performance through smart diagnostics\\n Brought to you by:\\n More Tech Showcases:\\n Oracle Technology\\n HP Application Quality Management\\n Novell PlateSpin Forge\\n NEC ExpressCluster\\n HP Software Solutions\\n Deliver better business services with HP Business Service Automation\\n Red Hat\\n Red Hat Breaks Down Virtualization Barriers \\u2013 Learn How\\n Get Avaya\\u2019s White paper\\n Secrets of Capturing Value from Unified Communications\\n Protect your business-critical systems with NEC ExpressCluster\\n Download the free 30-day evaluation version of this award-winning product now.\\n Evolve your code with Intel\\u00ae Parallel Studio\\n Your comprehensive solution to adding parallelism to Visual Studio. View the video now.\\n Compare your salary here\\n Join the community for free access to salary reports & charts\\n \\tMore from CBS Interactive\\n \\tCBS Interactive Inc Sites\\n \\tAbout ZDNet Asia\\u00a0|\\u00a0\\n \\tAbout CBS Interactive\\u00a0|\\u00a0\\n \\tZDNet Asia editorial calendar\\u00a0|\\u00a0\\n \\tAdvertise with us\\u00a0|\\u00a0\\n \\tJobs\\u00a0|\\u00a0\\n \\tPartnership\\u00a0|\\u00a0\\n \\tContact Us\\u00a0|\\u00a0\\n \\tCNET Direct\\u00a0|\\u00a0\\n \\tCNET Asia\\u00a0|\\u00a0\\n \\tCNET Asia mobile\\u00a0|\\u00a0\\n \\tSitemap\\n \\tZDNet.com\\u00a0|\\u00a0\\n \\tZDNet Japan\\u00a0|\\u00a0\\n \\tZDNet.de\\u00a0|\\u00a0\\n \\tCNET UK\\u00a0|\\u00a0\\n \\tCNET.de\\u00a0|\\u00a0\\n \\tTech Republic\\u00a0|\\u00a0\\n \\tBNET\\u00a0|\\u00a0\\n \\tMP3.com\\u00a0|\\u00a0\\n \\tactiveTechPros\\u00a0|\\u00a0\\n \\tZDNet UK\\u00a0|\\u00a0\\n \\tZDNet Korea\\u00a0|\\u00a0\\n \\tZDNet France\\u00a0|\\u00a0\\n \\tCNET Australia\\u00a0|\\u00a0\\n \\tCNET France\\u00a0|\\u00a0\\n \\tDownload.com\\u00a0|\\u00a0\\n \\tBuilder\\u00a0|\\u00a0\\n \\tGameSpot\\n \\tZDNet Australia\\u00a0|\\u00a0\\n \\tZDNet Taiwan\\u00a0|\\u00a0\\n \\tCNET\\u00a0|\\u00a0\\n \\tCNET Taiwan\\u00a0|\\u00a0\\n \\tNews.com\\u00a0|\\u00a0\\n \\tSilicon.com\\u00a0|\\u00a0\\n \\tTV.com\\u00a0|\\u00a0\\n \\tGameSpot Korea\\n News\\u00a0|\\u00a0\\n Insight\\u00a0|\\u00a0\\n Reviews\\u00a0|\\u00a0\\n TechGuides\\u00a0|\\u00a0\\n Jobs\\u00a0|\\u00a0\\n Blogs\\u00a0|\\u00a0\\n Videos\\u00a0|\\u00a0\\n Community\\u00a0|\\u00a0\\n Downloads\\u00a0|\\u00a0\\n IT Library\\u00a0|\\u00a0\\n Get RSS feeds\\u00a0\\n Copyright \\u00a9 2009 CBS Interactive Inc. All rights reserved.  Privacy Policy. \\n\",\n",
      "        \"uuid\": \"UPI_00022_23\"\n",
      "    },\n",
      "    \"4\": {\n",
      "        \"distance\": 0.0,\n",
      "        \"doc_index\": \"UPI_00114_Corporate Solutions.doc.txt\",\n",
      "        \"text\": \"FOUNDATION:  A NEW BEGINNING\\n Innovation\\n In designing the Foundation system, Electronic Data Control (EDC) took an approach radically different from the one used by most of our competition. Instead of the system being browser-based, and accessible by all the personnel to be contacted, we chose to design and develop Foundation as a client-based system, accessed by a select few system administrators. The client software is delivered through Java Web Start. It features an advanced interface to the new and powerful functionality.\\n Flexibility\\n When compared with most competitors, everything is different: the code; the architecture; the hosting; and the system capabilities. Foundation arouses the interest of precisely those clients seeking unique solutions to address their specific needs.  When we present the system architecture and functionality to our prospective clients, we analyze their operations and look to creating a synergy through integration with their existing systems. Foundation is designed to partner with client needs.\\n Confidence\\n Additionally, we offer a limited beta giving the prospect time to test drive Foundation and make comparisons between us and any competitor.  Think of this as you would when selecting an automobile that you plan to own for years to come. \\n Power\\n Foundation's design has benefited from our study of scalable systems based on grid architecture. These elements are not found in other systems.  Foundation's grid-based approach combined with concurrent programming techniques and hosting on Amazon's EC2, allows us to be infinitely scalable and rapidly available for client use.\\n Patents\\n Foundation is different than most competitors because instead of linear plans, Foundation introduces and implements a notion of actionable workflow. A workflow consists of states and transitions. Unlike a linear plan, a workflow mirrors the way in which organizations and people react to changing circumstances. A workflow allows conditions, escalations, changes in priorities, and all the other elements useful in real life.  This is one of the core elements of our Provisional Patent now on file with the USPTO.\\n Organization\\n Additionally, Foundation organizes its entities in a flexible hierarchical manner. Thus, to organize contacts and people, Foundation implements groups, super-groups, and sub-groups to organize companies and company structures. Foundation uses domains, super-domains, and sub-domains.  All of these features are necessary in the complex world of today, and are absent in most competitive systems currently in the market.\\n Alliances\\n EDC\\u2019s alliance with a strategic partner has produced a Weather Product with Foundation as its integrated communications platform.  The Foundation platform combined with real time weather data offers automation and projected economic impact to business bottom lines by severe weather or other production disruptions.  \\n\",\n",
      "        \"uuid\": \"UPI_00114_Corporate Solutions\"\n",
      "    }\n",
      "}\n"
     ]
    }
   ],
   "source": [
    "input_json = {\"caseUUID\":\"CUUID001\",\n",
    "              \"modelType\": \"bertJaccard\",\n",
    "              \"threshold\": 4,\n",
    "              \"document\":\"2 of our counterparties are writing letters of complaint.. here's a sample of some of the quotes we have heard from the 10 counterparties we have added in the last 6 months. \"}\n",
    "\n",
    "payload = json.dumps(input_json)\n",
    "\n",
    "r = requests.post(base_url, headers=headers, data=payload)\n",
    "print(json.dumps(json.loads(r.content), indent=4))"
   ]
  },
  {
   "cell_type": "markdown",
   "metadata": {},
   "source": [
    "## Freed - Bert-Cosine Test"
   ]
  },
  {
   "cell_type": "code",
   "execution_count": 21,
   "metadata": {},
   "outputs": [
    {
     "name": "stdout",
     "output_type": "stream",
     "text": [
      "{\n",
      "    \"1\": {\n",
      "        \"distance\": 0.015,\n",
      "        \"doc_index\": \"UPI_02134_254.eml.txt\",\n",
      "        \"text\": \"Here are the URL's to place into the Address box of Internet Explorer:\\n For the ENA Livelink instance: \\thttp://edms.livelink.enron.com/ena/livelink.exe\\n For the Corp Livelink instance: \\thttp://nahou-kmcprm01p/livelink/livelink.exe\\n For the ELU Livelink instance:  \\thttp://www.generalquarters.com/livelink/livelink.exe \\n  I strongly suggest you create desktop shortcuts, Internet Explorer LINKS or Favorites for each. \\n Thank you,\\n  Rob Wells\\n\",\n",
      "        \"uuid\": \"UPI_02134_254\"\n",
      "    },\n",
      "    \"2\": {\n",
      "        \"distance\": 0.015,\n",
      "        \"doc_index\": \"UPI_02138_258.eml.txt\",\n",
      "        \"text\": \" Ladies,\\n Looks we have been assigned Counterparties to work on.  I would like to have a triparty meeting this week so that we will be taking our respective projects toward the same \\\"north star\\\". Thus, by copying this to Becky, I'm asking her to set up a meeting between the 3 of us to discuss our approaches to the EWS Trading Contracts we have been assigned.. \\n Surely we'll have success with humor doing our tasks in an efficient manner. Two more organized and resourceful partners I could not identify.......bng\\n\",\n",
      "        \"uuid\": \"UPI_02138_258\"\n",
      "    },\n",
      "    \"3\": {\n",
      "        \"distance\": 0.017,\n",
      "        \"doc_index\": \"UPI_01995_154.eml.txt\",\n",
      "        \"text\": \"We need to complete the review of the termination notices in Frank's old office by the end of this week.  All of the notices are on the desk.  They should be compared to the notices in our files to ensure that nothing has been overlooked (I found a couple yesterday).\\n\",\n",
      "        \"uuid\": \"UPI_01995_154\"\n",
      "    },\n",
      "    \"4\": {\n",
      "        \"distance\": 0.018,\n",
      "        \"doc_index\": \"UPI_02027_182.eml.txt\",\n",
      "        \"text\": \"Kay,\\n Will deliver to you shortly.\\n Susan \\n  -----Original Message-----\\n From: \\tMann, Kay  \\n Sent:\\tMonday, January 28, 2002 1:55 PM\\n To:\\tBailey, Susan\\n Subject:\\tMidland Cogeneration Venture termination\\n Could I get a copy of the Midland Cogeneration Venture Limited Partnership termination letter?\\n Thanks,\\n Kay\\n\",\n",
      "        \"uuid\": \"UPI_02027_182\"\n",
      "    }\n",
      "}\n"
     ]
    }
   ],
   "source": [
    "input_json = {\"caseUUID\":\"CUUID001\",\n",
    "              \"modelType\": \"bertCosine\",\n",
    "              \"threshold\": 4,\n",
    "              \"document\":\"2 of our counterparties are writing letters of complaint.. here's a sample of some of the quotes we have heard from the 10 counterparties we have added in the last 6 months. \"}\n",
    "\n",
    "payload = json.dumps(input_json)\n",
    "\n",
    "r = requests.post(base_url, headers=headers, data=payload)\n",
    "print(json.dumps(json.loads(r.content), indent=4))"
   ]
  },
  {
   "cell_type": "code",
   "execution_count": null,
   "metadata": {},
   "outputs": [],
   "source": []
  },
  {
   "cell_type": "code",
   "execution_count": null,
   "metadata": {},
   "outputs": [],
   "source": []
  },
  {
   "cell_type": "code",
   "execution_count": null,
   "metadata": {},
   "outputs": [],
   "source": []
  },
  {
   "cell_type": "markdown",
   "metadata": {},
   "source": [
    "## Enron - Doc2vec Test"
   ]
  },
  {
   "cell_type": "code",
   "execution_count": 22,
   "metadata": {
    "scrolled": true
   },
   "outputs": [
    {
     "name": "stdout",
     "output_type": "stream",
     "text": [
      "{\n",
      "    \"1\": {\n",
      "        \"distance\": 0.7836326360702515,\n",
      "        \"filename\": \"enron045_17531.txt\",\n",
      "        \"text\": \"\\n\\n\\n\\n***********\\n\\nEDRM Enron Email Data Set has been produced in EML, PST and NSF format by ZL Technologies, Inc. This Data Set is licensed under a Creative Commons Attribution 3.0 United States License <http://creativecommons.org/licenses/by/3.0/us/> . To provide attribution, please cite to \\\"ZL Technologies, Inc. (http://www.zlti.com).\\\"\\n\\n***********\\n\\n\\n\\n\\n\\n\\n\\n\\n\"\n",
      "    },\n",
      "    \"2\": {\n",
      "        \"distance\": 0.7802611589431763,\n",
      "        \"filename\": \"enron059_00349.txt\",\n",
      "        \"text\": \"\\n\\n\\n\\n***********\\n\\nEDRM Enron Email Data Set has been produced in EML, PST and NSF format by ZL Technologies, Inc. This Data Set is licensed under a Creative Commons Attribution 3.0 United States License <http://creativecommons.org/licenses/by/3.0/us/> . To provide attribution, please cite to \\\"ZL Technologies, Inc. (http://www.zlti.com).\\\"\\n\\n***********\\n\\n\\n\\n\\n\\n\\n\\n\\n\"\n",
      "    },\n",
      "    \"3\": {\n",
      "        \"distance\": 0.7802209258079529,\n",
      "        \"filename\": \"enron055_05585.txt\",\n",
      "        \"text\": \"\\n\\n\\n\\n***********\\n\\nEDRM Enron Email Data Set has been produced in EML, PST and NSF format by ZL Technologies, Inc. This Data Set is licensed under a Creative Commons Attribution 3.0 United States License <http://creativecommons.org/licenses/by/3.0/us/> . To provide attribution, please cite to \\\"ZL Technologies, Inc. (http://www.zlti.com).\\\"\\n\\n***********\\n\\n\\n\\n\\n\\n\\n\\n\\n\"\n",
      "    },\n",
      "    \"4\": {\n",
      "        \"distance\": 0.780192494392395,\n",
      "        \"filename\": \"enron002_01737.txt\",\n",
      "        \"text\": \"\\n\\n\\n\\n***********\\n\\nEDRM Enron Email Data Set has been produced in EML, PST and NSF format by ZL Technologies, Inc. This Data Set is licensed under a Creative Commons Attribution 3.0 United States License <http://creativecommons.org/licenses/by/3.0/us/> . To provide attribution, please cite to \\\"ZL Technologies, Inc. (http://www.zlti.com).\\\"\\n\\n***********\\n\\n\\n\\n\\n\\n\\n\\n\\n\"\n",
      "    }\n",
      "}\n"
     ]
    }
   ],
   "source": [
    "input_json = {\"caseUUID\":\"CUUID002\",\n",
    "              \"modelType\": \"doc2vec\",\n",
    "              \"threshold\": 4,\n",
    "              \"document\":\"2 of our counterparties are writing letters of complaint.. here's a sample of some of the quotes we have heard from the 10 counterparties we have added in the last 6 months. \"}\n",
    "\n",
    "payload = json.dumps(input_json)\n",
    "\n",
    "r = requests.post(base_url, headers=headers, data=payload)\n",
    "print(json.dumps(json.loads(r.content), indent=4))"
   ]
  },
  {
   "cell_type": "markdown",
   "metadata": {},
   "source": [
    "## Enron - Bert-Jaccard Test"
   ]
  },
  {
   "cell_type": "code",
   "execution_count": 23,
   "metadata": {},
   "outputs": [
    {
     "name": "stdout",
     "output_type": "stream",
     "text": [
      "{\n",
      "    \"1\": {\n",
      "        \"distance\": 0.0,\n",
      "        \"doc_index\": \"enron035_03648.txt\",\n",
      "        \"text\": \"EDRM Enron Email Data Set has been produced in EML, PST and NSF format by ZL Technologies, Inc. This Data Set is licensed under a Creative Commons Attribution 3.0 United States License <http://creativecommons.org/licenses/by/3.0/us/> . To provide attribution, please cite to \\\"ZL Technologies, Inc. (http://www.zlti.com).\\\"\\n\"\n",
      "    },\n",
      "    \"2\": {\n",
      "        \"distance\": 0.0,\n",
      "        \"doc_index\": \"enron045_22755.txt\",\n",
      "        \"text\": \"EDRM Enron Email Data Set has been produced in EML, PST and NSF format by ZL Technologies, Inc. This Data Set is licensed under a Creative Commons Attribution 3.0 United States License <http://creativecommons.org/licenses/by/3.0/us/> . To provide attribution, please cite to \\\"ZL Technologies, Inc. (http://www.zlti.com).\\\"\\n\"\n",
      "    },\n",
      "    \"3\": {\n",
      "        \"distance\": 0.0,\n",
      "        \"doc_index\": \"enron121_08486.txt\",\n",
      "        \"text\": \"EDRM Enron Email Data Set has been produced in EML, PST and NSF format by ZL Technologies, Inc. This Data Set is licensed under a Creative Commons Attribution 3.0 United States License <http://creativecommons.org/licenses/by/3.0/us/> . To provide attribution, please cite to \\\"ZL Technologies, Inc. (http://www.zlti.com).\\\"\\n\"\n",
      "    },\n",
      "    \"4\": {\n",
      "        \"distance\": 0.0,\n",
      "        \"doc_index\": \"enron068_17354.txt\",\n",
      "        \"text\": \"EDRM Enron Email Data Set has been produced in EML, PST and NSF format by ZL Technologies, Inc. This Data Set is licensed under a Creative Commons Attribution 3.0 United States License <http://creativecommons.org/licenses/by/3.0/us/> . To provide attribution, please cite to \\\"ZL Technologies, Inc. (http://www.zlti.com).\\\"\\n\"\n",
      "    }\n",
      "}\n"
     ]
    }
   ],
   "source": [
    "input_json = {\"caseUUID\":\"CUUID002\",\n",
    "              \"modelType\": \"bertJaccard\",\n",
    "              \"threshold\": 4,\n",
    "              \"document\":\"2 of our counterparties are writing letters of complaint.. here's a sample of some of the quotes we have heard from the 10 counterparties we have added in the last 6 months. \"}\n",
    "\n",
    "payload = json.dumps(input_json)\n",
    "\n",
    "r = requests.post(base_url, headers=headers, data=payload)\n",
    "print(json.dumps(json.loads(r.content), indent=4))"
   ]
  },
  {
   "cell_type": "markdown",
   "metadata": {},
   "source": [
    "## Enron - Bert-Cosine Test"
   ]
  },
  {
   "cell_type": "code",
   "execution_count": 25,
   "metadata": {},
   "outputs": [
    {
     "name": "stdout",
     "output_type": "stream",
     "text": [
      "{\n",
      "    \"1\": {\n",
      "        \"distance\": 0.012,\n",
      "        \"doc_index\": \"enron107_08314.txt\",\n",
      "        \"text\": \"I sent this information on to Bruce Golden so hopefully we can get something \\n back by tomorrow.  Thanks\\n Ben\\n EDRM Enron Email Data Set has been produced in EML, PST and NSF format by ZL Technologies, Inc. This Data Set is licensed under a Creative Commons Attribution 3.0 United States License <http://creativecommons.org/licenses/by/3.0/us/> . To provide attribution, please cite to \\\"ZL Technologies, Inc. (http://www.zlti.com).\\\"\\n\"\n",
      "    },\n",
      "    \"2\": {\n",
      "        \"distance\": 0.013,\n",
      "        \"doc_index\": \"enron080_01939.txt\",\n",
      "        \"text\": \"Please enable me to sell options on EOL (currently I am only able to buy).\\n Thanks,  Larry\\n EDRM Enron Email Data Set has been produced in EML, PST and NSF format by ZL Technologies, Inc. This Data Set is licensed under a Creative Commons Attribution 3.0 United States License <http://creativecommons.org/licenses/by/3.0/us/> . To provide attribution, please cite to \\\"ZL Technologies, Inc. (http://www.zlti.com).\\\"\\n\"\n",
      "    },\n",
      "    \"3\": {\n",
      "        \"distance\": 0.013,\n",
      "        \"doc_index\": \"enron070_01253.txt\",\n",
      "        \"text\": \"we are in for 3 nights.  i haven't heard from merlin yet so he is the only \\n one who hasn't committed to that weekend.  i also need to check with max.\\n EDRM Enron Email Data Set has been produced in EML, PST and NSF format by ZL Technologies, Inc. This Data Set is licensed under a Creative Commons Attribution 3.0 United States License <http://creativecommons.org/licenses/by/3.0/us/> . To provide attribution, please cite to \\\"ZL Technologies, Inc. (http://www.zlti.com).\\\"\\n\"\n",
      "    },\n",
      "    \"4\": {\n",
      "        \"distance\": 0.013,\n",
      "        \"doc_index\": \"enron044_01249.txt\",\n",
      "        \"text\": \"Thanks Greg, I am very much looking forward to the opportunity and appreciate \\n your support.  Have a great weekend!\\n EDRM Enron Email Data Set has been produced in EML, PST and NSF format by ZL Technologies, Inc. This Data Set is licensed under a Creative Commons Attribution 3.0 United States License <http://creativecommons.org/licenses/by/3.0/us/> . To provide attribution, please cite to \\\"ZL Technologies, Inc. (http://www.zlti.com).\\\"\\n\"\n",
      "    }\n",
      "}\n"
     ]
    }
   ],
   "source": [
    "input_json = {\"caseUUID\":\"CUUID002\",\n",
    "              \"modelType\": \"bertCosine\",\n",
    "              \"threshold\": 4,\n",
    "              \"document\":\"2 of our counterparties are writing letters of complaint.. here's a sample of some of the quotes we have heard from the 10 counterparties we have added in the last 6 months. \"}\n",
    "\n",
    "payload = json.dumps(input_json)\n",
    "\n",
    "r = requests.post(base_url, headers=headers, data=payload)\n",
    "print(json.dumps(json.loads(r.content), indent=4))"
   ]
  },
  {
   "cell_type": "code",
   "execution_count": null,
   "metadata": {},
   "outputs": [],
   "source": []
  }
 ],
 "metadata": {
  "kernelspec": {
   "display_name": "Python 3",
   "language": "python",
   "name": "python3"
  },
  "language_info": {
   "codemirror_mode": {
    "name": "ipython",
    "version": 3
   },
   "file_extension": ".py",
   "mimetype": "text/x-python",
   "name": "python",
   "nbconvert_exporter": "python",
   "pygments_lexer": "ipython3",
   "version": "3.7.4"
  },
  "toc": {
   "base_numbering": 1,
   "nav_menu": {
    "height": "274px",
    "width": "414px"
   },
   "number_sections": true,
   "sideBar": true,
   "skip_h1_title": false,
   "title_cell": "Table of Contents",
   "title_sidebar": "Contents",
   "toc_cell": true,
   "toc_position": {},
   "toc_section_display": true,
   "toc_window_display": false
  }
 },
 "nbformat": 4,
 "nbformat_minor": 2
}
