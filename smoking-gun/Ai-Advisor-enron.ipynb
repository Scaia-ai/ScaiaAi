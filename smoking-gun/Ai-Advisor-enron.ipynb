{
 "cells": [
  {
   "cell_type": "markdown",
   "metadata": {
    "toc": true
   },
   "source": [
    "<h1>Table of Contents<span class=\"tocSkip\"></span></h1>\n",
    "<div class=\"toc\"><ul class=\"toc-item\"><li><span><a href=\"#To-download-Enron-Data-from-Web\" data-toc-modified-id=\"To-download-Enron-Data-from-Web-1\"><span class=\"toc-item-num\">1&nbsp;&nbsp;</span>To download Enron Data from Web</a></span></li><li><span><a href=\"#Process-Emails\" data-toc-modified-id=\"Process-Emails-2\"><span class=\"toc-item-num\">2&nbsp;&nbsp;</span>Process Emails</a></span></li><li><span><a href=\"#Create-Bert-Embeddings-for-Emails\" data-toc-modified-id=\"Create-Bert-Embeddings-for-Emails-3\"><span class=\"toc-item-num\">3&nbsp;&nbsp;</span>Create Bert Embeddings for Emails</a></span></li><li><span><a href=\"#Nearest-Neighbors---Jaccard\" data-toc-modified-id=\"Nearest-Neighbors---Jaccard-4\"><span class=\"toc-item-num\">4&nbsp;&nbsp;</span>Nearest Neighbors - Jaccard</a></span></li><li><span><a href=\"#Nearest-Neighbors---Cosine\" data-toc-modified-id=\"Nearest-Neighbors---Cosine-5\"><span class=\"toc-item-num\">5&nbsp;&nbsp;</span>Nearest Neighbors - Cosine</a></span></li><li><span><a href=\"#Doc2Vec\" data-toc-modified-id=\"Doc2Vec-6\"><span class=\"toc-item-num\">6&nbsp;&nbsp;</span>Doc2Vec</a></span></li><li><span><a href=\"#Precision-&amp;-Recall\" data-toc-modified-id=\"Precision-&amp;-Recall-7\"><span class=\"toc-item-num\">7&nbsp;&nbsp;</span>Precision &amp; Recall</a></span></li></ul></div>"
   ]
  },
  {
   "cell_type": "markdown",
   "metadata": {},
   "source": [
    "# To download Enron Data from Web"
   ]
  },
  {
   "cell_type": "code",
   "execution_count": 1,
   "metadata": {},
   "outputs": [],
   "source": [
    "from get_enron import download_enron_data"
   ]
  },
  {
   "cell_type": "code",
   "execution_count": 2,
   "metadata": {},
   "outputs": [
    {
     "name": "stdout",
     "output_type": "stream",
     "text": [
      "Downloading File... https://s3.amazonaws.com/freeeed.org/enron/results/enron001.zip\n",
      "Downloading File... https://s3.amazonaws.com/freeeed.org/enron/results/enron002.zip\n",
      "Downloading File... https://s3.amazonaws.com/freeeed.org/enron/results/enron003.zip\n",
      "Downloading File... https://s3.amazonaws.com/freeeed.org/enron/results/enron004.zip\n",
      "Downloading File... https://s3.amazonaws.com/freeeed.org/enron/results/enron005.zip\n",
      "Downloading File... https://s3.amazonaws.com/freeeed.org/enron/results/enron006.zip\n",
      "Downloading File... https://s3.amazonaws.com/freeeed.org/enron/results/enron007.zip\n",
      "Downloading File... https://s3.amazonaws.com/freeeed.org/enron/results/enron008.zip\n",
      "Downloading File... https://s3.amazonaws.com/freeeed.org/enron/results/enron009.zip\n",
      "Downloading File... https://s3.amazonaws.com/freeeed.org/enron/results/enron010.zip\n",
      "Downloading File... https://s3.amazonaws.com/freeeed.org/enron/results/enron011.zip\n",
      "Downloading File... https://s3.amazonaws.com/freeeed.org/enron/results/enron012.zip\n",
      "Downloading File... https://s3.amazonaws.com/freeeed.org/enron/results/enron013.zip\n",
      "Downloading File... https://s3.amazonaws.com/freeeed.org/enron/results/enron014.zip\n",
      "Downloading File... https://s3.amazonaws.com/freeeed.org/enron/results/enron015.zip\n",
      "Downloading File... https://s3.amazonaws.com/freeeed.org/enron/results/enron016.zip\n",
      "Downloading File... https://s3.amazonaws.com/freeeed.org/enron/results/enron017.zip\n",
      "Downloading File... https://s3.amazonaws.com/freeeed.org/enron/results/enron018.zip\n",
      "Downloading File... https://s3.amazonaws.com/freeeed.org/enron/results/enron019.zip\n",
      "Downloading File... https://s3.amazonaws.com/freeeed.org/enron/results/enron020.zip\n",
      "File https://s3.amazonaws.com/freeeed.org/enron/results/enron021.zip - doesn't exist. Skipping this download\n",
      "Downloading File... https://s3.amazonaws.com/freeeed.org/enron/results/enron022.zip\n",
      "Downloading File... https://s3.amazonaws.com/freeeed.org/enron/results/enron023.zip\n",
      "Downloading File... https://s3.amazonaws.com/freeeed.org/enron/results/enron024.zip\n",
      "Downloading File... https://s3.amazonaws.com/freeeed.org/enron/results/enron025.zip\n",
      "Downloading File... https://s3.amazonaws.com/freeeed.org/enron/results/enron026.zip\n",
      "Downloading File... https://s3.amazonaws.com/freeeed.org/enron/results/enron027.zip\n",
      "Downloading File... https://s3.amazonaws.com/freeeed.org/enron/results/enron028.zip\n",
      "File https://s3.amazonaws.com/freeeed.org/enron/results/enron029.zip - doesn't exist. Skipping this download\n",
      "Downloading File... https://s3.amazonaws.com/freeeed.org/enron/results/enron030.zip\n",
      "Downloading File... https://s3.amazonaws.com/freeeed.org/enron/results/enron031.zip\n",
      "Downloading File... https://s3.amazonaws.com/freeeed.org/enron/results/enron032.zip\n",
      "Downloading File... https://s3.amazonaws.com/freeeed.org/enron/results/enron033.zip\n",
      "Downloading File... https://s3.amazonaws.com/freeeed.org/enron/results/enron034.zip\n",
      "Downloading File... https://s3.amazonaws.com/freeeed.org/enron/results/enron035.zip\n",
      "Downloading File... https://s3.amazonaws.com/freeeed.org/enron/results/enron036.zip\n",
      "Downloading File... https://s3.amazonaws.com/freeeed.org/enron/results/enron037.zip\n",
      "Downloading File... https://s3.amazonaws.com/freeeed.org/enron/results/enron038.zip\n",
      "Downloading File... https://s3.amazonaws.com/freeeed.org/enron/results/enron039.zip\n",
      "Downloading File... https://s3.amazonaws.com/freeeed.org/enron/results/enron040.zip\n",
      "Downloading File... https://s3.amazonaws.com/freeeed.org/enron/results/enron041.zip\n",
      "Downloading File... https://s3.amazonaws.com/freeeed.org/enron/results/enron042.zip\n",
      "Downloading File... https://s3.amazonaws.com/freeeed.org/enron/results/enron043.zip\n",
      "Downloading File... https://s3.amazonaws.com/freeeed.org/enron/results/enron044.zip\n",
      "Downloading File... https://s3.amazonaws.com/freeeed.org/enron/results/enron045.zip\n",
      "Downloading File... https://s3.amazonaws.com/freeeed.org/enron/results/enron046.zip\n",
      "Downloading File... https://s3.amazonaws.com/freeeed.org/enron/results/enron047.zip\n",
      "Downloading File... https://s3.amazonaws.com/freeeed.org/enron/results/enron048.zip\n",
      "Downloading File... https://s3.amazonaws.com/freeeed.org/enron/results/enron049.zip\n",
      "Downloading File... https://s3.amazonaws.com/freeeed.org/enron/results/enron050.zip\n",
      "Downloading File... https://s3.amazonaws.com/freeeed.org/enron/results/enron051.zip\n",
      "Downloading File... https://s3.amazonaws.com/freeeed.org/enron/results/enron052.zip\n",
      "Downloading File... https://s3.amazonaws.com/freeeed.org/enron/results/enron053.zip\n",
      "Downloading File... https://s3.amazonaws.com/freeeed.org/enron/results/enron054.zip\n",
      "Downloading File... https://s3.amazonaws.com/freeeed.org/enron/results/enron055.zip\n",
      "Downloading File... https://s3.amazonaws.com/freeeed.org/enron/results/enron056.zip\n",
      "Downloading File... https://s3.amazonaws.com/freeeed.org/enron/results/enron057.zip\n",
      "Downloading File... https://s3.amazonaws.com/freeeed.org/enron/results/enron058.zip\n",
      "Downloading File... https://s3.amazonaws.com/freeeed.org/enron/results/enron059.zip\n",
      "Downloading File... https://s3.amazonaws.com/freeeed.org/enron/results/enron060.zip\n",
      "Bad File Format https://s3.amazonaws.com/freeeed.org/enron/results/enron060.zip. Skipping this download\n",
      "Downloading File... https://s3.amazonaws.com/freeeed.org/enron/results/enron061.zip\n",
      "Bad File Format https://s3.amazonaws.com/freeeed.org/enron/results/enron061.zip. Skipping this download\n",
      "Downloading File... https://s3.amazonaws.com/freeeed.org/enron/results/enron062.zip\n",
      "Downloading File... https://s3.amazonaws.com/freeeed.org/enron/results/enron063.zip\n",
      "Downloading File... https://s3.amazonaws.com/freeeed.org/enron/results/enron064.zip\n",
      "Downloading File... https://s3.amazonaws.com/freeeed.org/enron/results/enron065.zip\n",
      "Downloading File... https://s3.amazonaws.com/freeeed.org/enron/results/enron066.zip\n",
      "Downloading File... https://s3.amazonaws.com/freeeed.org/enron/results/enron067.zip\n",
      "Downloading File... https://s3.amazonaws.com/freeeed.org/enron/results/enron068.zip\n",
      "Downloading File... https://s3.amazonaws.com/freeeed.org/enron/results/enron069.zip\n",
      "Downloading File... https://s3.amazonaws.com/freeeed.org/enron/results/enron070.zip\n",
      "Downloading File... https://s3.amazonaws.com/freeeed.org/enron/results/enron071.zip\n",
      "Downloading File... https://s3.amazonaws.com/freeeed.org/enron/results/enron072.zip\n",
      "Downloading File... https://s3.amazonaws.com/freeeed.org/enron/results/enron073.zip\n",
      "Downloading File... https://s3.amazonaws.com/freeeed.org/enron/results/enron074.zip\n",
      "Downloading File... https://s3.amazonaws.com/freeeed.org/enron/results/enron075.zip\n",
      "Downloading File... https://s3.amazonaws.com/freeeed.org/enron/results/enron076.zip\n",
      "Downloading File... https://s3.amazonaws.com/freeeed.org/enron/results/enron077.zip\n",
      "Downloading File... https://s3.amazonaws.com/freeeed.org/enron/results/enron078.zip\n",
      "Downloading File... https://s3.amazonaws.com/freeeed.org/enron/results/enron079.zip\n",
      "Downloading File... https://s3.amazonaws.com/freeeed.org/enron/results/enron080.zip\n",
      "Downloading File... https://s3.amazonaws.com/freeeed.org/enron/results/enron081.zip\n",
      "Downloading File... https://s3.amazonaws.com/freeeed.org/enron/results/enron082.zip\n",
      "Downloading File... https://s3.amazonaws.com/freeeed.org/enron/results/enron083.zip\n",
      "Downloading File... https://s3.amazonaws.com/freeeed.org/enron/results/enron084.zip\n",
      "Downloading File... https://s3.amazonaws.com/freeeed.org/enron/results/enron085.zip\n",
      "Downloading File... https://s3.amazonaws.com/freeeed.org/enron/results/enron086.zip\n",
      "Downloading File... https://s3.amazonaws.com/freeeed.org/enron/results/enron087.zip\n",
      "Downloading File... https://s3.amazonaws.com/freeeed.org/enron/results/enron088.zip\n",
      "Downloading File... https://s3.amazonaws.com/freeeed.org/enron/results/enron089.zip\n",
      "Downloading File... https://s3.amazonaws.com/freeeed.org/enron/results/enron090.zip\n",
      "Downloading File... https://s3.amazonaws.com/freeeed.org/enron/results/enron091.zip\n",
      "Downloading File... https://s3.amazonaws.com/freeeed.org/enron/results/enron092.zip\n",
      "Downloading File... https://s3.amazonaws.com/freeeed.org/enron/results/enron093.zip\n",
      "Downloading File... https://s3.amazonaws.com/freeeed.org/enron/results/enron094.zip\n",
      "Downloading File... https://s3.amazonaws.com/freeeed.org/enron/results/enron095.zip\n"
     ]
    },
    {
     "name": "stdout",
     "output_type": "stream",
     "text": [
      "Downloading File... https://s3.amazonaws.com/freeeed.org/enron/results/enron096.zip\n",
      "Downloading File... https://s3.amazonaws.com/freeeed.org/enron/results/enron097.zip\n",
      "Downloading File... https://s3.amazonaws.com/freeeed.org/enron/results/enron098.zip\n",
      "Downloading File... https://s3.amazonaws.com/freeeed.org/enron/results/enron099.zip\n",
      "Downloading File... https://s3.amazonaws.com/freeeed.org/enron/results/enron100.zip\n",
      "Downloading File... https://s3.amazonaws.com/freeeed.org/enron/results/enron101.zip\n",
      "Downloading File... https://s3.amazonaws.com/freeeed.org/enron/results/enron102.zip\n",
      "Downloading File... https://s3.amazonaws.com/freeeed.org/enron/results/enron103.zip\n",
      "Downloading File... https://s3.amazonaws.com/freeeed.org/enron/results/enron104.zip\n",
      "Downloading File... https://s3.amazonaws.com/freeeed.org/enron/results/enron105.zip\n",
      "Downloading File... https://s3.amazonaws.com/freeeed.org/enron/results/enron106.zip\n",
      "Downloading File... https://s3.amazonaws.com/freeeed.org/enron/results/enron107.zip\n",
      "Downloading File... https://s3.amazonaws.com/freeeed.org/enron/results/enron108.zip\n",
      "Downloading File... https://s3.amazonaws.com/freeeed.org/enron/results/enron109.zip\n",
      "Downloading File... https://s3.amazonaws.com/freeeed.org/enron/results/enron110.zip\n",
      "Downloading File... https://s3.amazonaws.com/freeeed.org/enron/results/enron111.zip\n",
      "Downloading File... https://s3.amazonaws.com/freeeed.org/enron/results/enron112.zip\n",
      "Downloading File... https://s3.amazonaws.com/freeeed.org/enron/results/enron113.zip\n",
      "Downloading File... https://s3.amazonaws.com/freeeed.org/enron/results/enron114.zip\n",
      "Downloading File... https://s3.amazonaws.com/freeeed.org/enron/results/enron115.zip\n",
      "Downloading File... https://s3.amazonaws.com/freeeed.org/enron/results/enron116.zip\n",
      "Downloading File... https://s3.amazonaws.com/freeeed.org/enron/results/enron117.zip\n",
      "Downloading File... https://s3.amazonaws.com/freeeed.org/enron/results/enron118.zip\n",
      "Downloading File... https://s3.amazonaws.com/freeeed.org/enron/results/enron119.zip\n",
      "Downloading File... https://s3.amazonaws.com/freeeed.org/enron/results/enron120.zip\n",
      "Downloading File... https://s3.amazonaws.com/freeeed.org/enron/results/enron121.zip\n",
      "Downloading File... https://s3.amazonaws.com/freeeed.org/enron/results/enron122.zip\n",
      "Downloading File... https://s3.amazonaws.com/freeeed.org/enron/results/enron123.zip\n",
      "Downloading File... https://s3.amazonaws.com/freeeed.org/enron/results/enron124.zip\n",
      "Downloading File... https://s3.amazonaws.com/freeeed.org/enron/results/enron125.zip\n",
      "Downloading File... https://s3.amazonaws.com/freeeed.org/enron/results/enron126.zip\n",
      "Downloading File... https://s3.amazonaws.com/freeeed.org/enron/results/enron127.zip\n",
      "Downloading File... https://s3.amazonaws.com/freeeed.org/enron/results/enron128.zip\n",
      "Downloading File... https://s3.amazonaws.com/freeeed.org/enron/results/enron129.zip\n",
      "Downloading File... https://s3.amazonaws.com/freeeed.org/enron/results/enron130.zip\n",
      "Downloading File... https://s3.amazonaws.com/freeeed.org/enron/results/enron131.zip\n",
      "Downloading File... https://s3.amazonaws.com/freeeed.org/enron/results/enron132.zip\n",
      "Downloading File... https://s3.amazonaws.com/freeeed.org/enron/results/enron133.zip\n",
      "Downloading File... https://s3.amazonaws.com/freeeed.org/enron/results/enron134.zip\n",
      "Downloading File... https://s3.amazonaws.com/freeeed.org/enron/results/enron135.zip\n",
      "Downloading File... https://s3.amazonaws.com/freeeed.org/enron/results/enron136.zip\n",
      "Downloading File... https://s3.amazonaws.com/freeeed.org/enron/results/enron137.zip\n",
      "Downloading File... https://s3.amazonaws.com/freeeed.org/enron/results/enron138.zip\n",
      "Downloading File... https://s3.amazonaws.com/freeeed.org/enron/results/enron139.zip\n",
      "Downloading File... https://s3.amazonaws.com/freeeed.org/enron/results/enron140.zip\n",
      "Downloading File... https://s3.amazonaws.com/freeeed.org/enron/results/enron141.zip\n",
      "Downloading File... https://s3.amazonaws.com/freeeed.org/enron/results/enron142.zip\n",
      "Downloading File... https://s3.amazonaws.com/freeeed.org/enron/results/enron143.zip\n",
      "Downloading File... https://s3.amazonaws.com/freeeed.org/enron/results/enron144.zip\n",
      "Downloading File... https://s3.amazonaws.com/freeeed.org/enron/results/enron145.zip\n",
      "Downloading File... https://s3.amazonaws.com/freeeed.org/enron/results/enron146.zip\n",
      "Downloading File... https://s3.amazonaws.com/freeeed.org/enron/results/enron147.zip\n",
      "Downloading File... https://s3.amazonaws.com/freeeed.org/enron/results/enron148.zip\n",
      "Downloading File... https://s3.amazonaws.com/freeeed.org/enron/results/enron149.zip\n",
      "Downloading File... https://s3.amazonaws.com/freeeed.org/enron/results/enron150.zip\n",
      "Downloading File... https://s3.amazonaws.com/freeeed.org/enron/results/enron151.zip\n",
      "Downloading File... https://s3.amazonaws.com/freeeed.org/enron/results/enron152.zip\n",
      "Downloading File... https://s3.amazonaws.com/freeeed.org/enron/results/enron153.zip\n"
     ]
    }
   ],
   "source": [
    "download_enron_data(download_to_folder = os.path.join(\"input_data\", \"emails\"))"
   ]
  },
  {
   "cell_type": "markdown",
   "metadata": {},
   "source": [
    "# Process Emails"
   ]
  },
  {
   "cell_type": "code",
   "execution_count": 6,
   "metadata": {},
   "outputs": [],
   "source": [
    "import os\n",
    "from process_data import process_emails"
   ]
  },
  {
   "cell_type": "code",
   "execution_count": 7,
   "metadata": {},
   "outputs": [],
   "source": [
    "process_emails(data_folder = os.path.join(\"input_data\", \"emails\"), email_text_file = os.path.join(\"input_data\", \"enron_texts.csv\"))"
   ]
  },
  {
   "cell_type": "markdown",
   "metadata": {},
   "source": [
    "# Create Bert Embeddings for Emails"
   ]
  },
  {
   "cell_type": "code",
   "execution_count": 8,
   "metadata": {},
   "outputs": [],
   "source": [
    "from document_representations_bert import get_doc_representations"
   ]
  },
  {
   "cell_type": "code",
   "execution_count": 9,
   "metadata": {},
   "outputs": [
    {
     "name": "stderr",
     "output_type": "stream",
     "text": [
      "10/19/2019 19:17:10 - INFO - pytorch_pretrained_bert.file_utils -   https://s3.amazonaws.com/models.huggingface.co/bert/bert-base-uncased-vocab.txt not found in cache, downloading to /tmp/tmpuyad7ydd\n",
      "100%|██████████| 231508/231508 [00:00<00:00, 6763826.49B/s]\n",
      "10/19/2019 19:17:10 - INFO - pytorch_pretrained_bert.file_utils -   copying /tmp/tmpuyad7ydd to cache at /home/ubuntu/.pytorch_pretrained_bert/26bc1ad6c0ac742e9b52263248f6d0f00068293b33709fae12320c0e35ccfbbb.542ce4285a40d23a559526243235df47c5f75c197f04f37d1a0c124c32c9a084\n",
      "10/19/2019 19:17:10 - INFO - pytorch_pretrained_bert.file_utils -   creating metadata file for /home/ubuntu/.pytorch_pretrained_bert/26bc1ad6c0ac742e9b52263248f6d0f00068293b33709fae12320c0e35ccfbbb.542ce4285a40d23a559526243235df47c5f75c197f04f37d1a0c124c32c9a084\n",
      "10/19/2019 19:17:10 - INFO - pytorch_pretrained_bert.file_utils -   removing temp file /tmp/tmpuyad7ydd\n",
      "10/19/2019 19:17:10 - INFO - pytorch_pretrained_bert.tokenization -   loading vocabulary file https://s3.amazonaws.com/models.huggingface.co/bert/bert-base-uncased-vocab.txt from cache at /home/ubuntu/.pytorch_pretrained_bert/26bc1ad6c0ac742e9b52263248f6d0f00068293b33709fae12320c0e35ccfbbb.542ce4285a40d23a559526243235df47c5f75c197f04f37d1a0c124c32c9a084\n",
      "10/19/2019 19:17:10 - INFO - pytorch_pretrained_bert.file_utils -   https://s3.amazonaws.com/models.huggingface.co/bert/bert-base-uncased.tar.gz not found in cache, downloading to /tmp/tmpn1qnwgrm\n",
      "100%|██████████| 407873900/407873900 [00:12<00:00, 33418869.70B/s]\n",
      "10/19/2019 19:17:23 - INFO - pytorch_pretrained_bert.file_utils -   copying /tmp/tmpn1qnwgrm to cache at input_data/bert/9c41111e2de84547a463fd39217199738d1e3deb72d4fec4399e6e241983c6f0.ae3cef932725ca7a30cdcb93fc6e09150a55e2a130ec7af63975a16c153ae2ba\n",
      "10/19/2019 19:17:23 - INFO - pytorch_pretrained_bert.file_utils -   creating metadata file for input_data/bert/9c41111e2de84547a463fd39217199738d1e3deb72d4fec4399e6e241983c6f0.ae3cef932725ca7a30cdcb93fc6e09150a55e2a130ec7af63975a16c153ae2ba\n",
      "10/19/2019 19:17:23 - INFO - pytorch_pretrained_bert.file_utils -   removing temp file /tmp/tmpn1qnwgrm\n",
      "10/19/2019 19:17:23 - INFO - pytorch_pretrained_bert.modeling -   loading archive file https://s3.amazonaws.com/models.huggingface.co/bert/bert-base-uncased.tar.gz from cache at input_data/bert/9c41111e2de84547a463fd39217199738d1e3deb72d4fec4399e6e241983c6f0.ae3cef932725ca7a30cdcb93fc6e09150a55e2a130ec7af63975a16c153ae2ba\n",
      "10/19/2019 19:17:23 - INFO - pytorch_pretrained_bert.modeling -   extracting archive file input_data/bert/9c41111e2de84547a463fd39217199738d1e3deb72d4fec4399e6e241983c6f0.ae3cef932725ca7a30cdcb93fc6e09150a55e2a130ec7af63975a16c153ae2ba to temp dir /tmp/tmpaqwp54dp\n",
      "10/19/2019 19:17:27 - INFO - pytorch_pretrained_bert.modeling -   Model config {\n",
      "  \"attention_probs_dropout_prob\": 0.1,\n",
      "  \"hidden_act\": \"gelu\",\n",
      "  \"hidden_dropout_prob\": 0.1,\n",
      "  \"hidden_size\": 768,\n",
      "  \"initializer_range\": 0.02,\n",
      "  \"intermediate_size\": 3072,\n",
      "  \"max_position_embeddings\": 512,\n",
      "  \"num_attention_heads\": 12,\n",
      "  \"num_hidden_layers\": 12,\n",
      "  \"type_vocab_size\": 2,\n",
      "  \"vocab_size\": 30522\n",
      "}\n",
      "\n",
      "10/19/2019 19:17:29 - INFO - root -   embedding chunk number: 0/124\n",
      "10/19/2019 19:20:54 - INFO - root -   embedding chunk number: 1/124\n",
      "10/19/2019 19:24:13 - INFO - root -   embedding chunk number: 2/124\n",
      "10/19/2019 19:27:33 - INFO - root -   embedding chunk number: 3/124\n",
      "10/19/2019 19:31:01 - INFO - root -   embedding chunk number: 4/124\n",
      "10/19/2019 19:34:23 - INFO - root -   embedding chunk number: 5/124\n",
      "10/19/2019 19:37:42 - INFO - root -   embedding chunk number: 6/124\n",
      "10/19/2019 19:41:00 - INFO - root -   embedding chunk number: 7/124\n",
      "10/19/2019 19:44:21 - INFO - root -   embedding chunk number: 8/124\n",
      "10/19/2019 19:47:46 - INFO - root -   embedding chunk number: 9/124\n",
      "10/19/2019 19:51:16 - INFO - root -   embedding chunk number: 10/124\n",
      "10/19/2019 19:54:44 - INFO - root -   embedding chunk number: 11/124\n",
      "10/19/2019 19:58:06 - INFO - root -   embedding chunk number: 12/124\n",
      "10/19/2019 20:01:31 - INFO - root -   embedding chunk number: 13/124\n",
      "10/19/2019 20:04:49 - INFO - root -   embedding chunk number: 14/124\n",
      "10/19/2019 20:08:18 - INFO - root -   embedding chunk number: 15/124\n",
      "10/19/2019 20:11:38 - INFO - root -   embedding chunk number: 16/124\n",
      "10/19/2019 20:14:57 - INFO - root -   embedding chunk number: 17/124\n",
      "10/19/2019 20:18:19 - INFO - root -   embedding chunk number: 18/124\n",
      "10/19/2019 20:21:44 - INFO - root -   embedding chunk number: 19/124\n",
      "10/19/2019 20:25:08 - INFO - root -   embedding chunk number: 20/124\n",
      "10/19/2019 20:28:30 - INFO - root -   embedding chunk number: 21/124\n",
      "10/19/2019 20:31:48 - INFO - root -   embedding chunk number: 22/124\n",
      "10/19/2019 20:35:09 - INFO - root -   embedding chunk number: 23/124\n",
      "10/19/2019 20:38:29 - INFO - root -   embedding chunk number: 24/124\n",
      "10/19/2019 20:41:51 - INFO - root -   embedding chunk number: 25/124\n",
      "10/19/2019 20:45:09 - INFO - root -   embedding chunk number: 26/124\n",
      "10/19/2019 20:48:31 - INFO - root -   embedding chunk number: 27/124\n",
      "10/19/2019 20:51:49 - INFO - root -   embedding chunk number: 28/124\n",
      "10/19/2019 20:55:21 - INFO - root -   embedding chunk number: 29/124\n",
      "10/19/2019 20:58:40 - INFO - root -   embedding chunk number: 30/124\n",
      "10/19/2019 21:02:04 - INFO - root -   embedding chunk number: 31/124\n",
      "10/19/2019 21:05:22 - INFO - root -   embedding chunk number: 32/124\n",
      "10/19/2019 21:08:43 - INFO - root -   embedding chunk number: 33/124\n",
      "10/19/2019 21:12:05 - INFO - root -   embedding chunk number: 34/124\n",
      "10/19/2019 21:15:24 - INFO - root -   embedding chunk number: 35/124\n",
      "10/19/2019 21:18:44 - INFO - root -   embedding chunk number: 36/124\n",
      "10/19/2019 21:22:03 - INFO - root -   embedding chunk number: 37/124\n",
      "10/19/2019 21:25:21 - INFO - root -   embedding chunk number: 38/124\n",
      "10/19/2019 21:28:45 - INFO - root -   embedding chunk number: 39/124\n",
      "10/19/2019 21:32:04 - INFO - root -   embedding chunk number: 40/124\n",
      "10/19/2019 21:35:25 - INFO - root -   embedding chunk number: 41/124\n",
      "10/19/2019 21:38:49 - INFO - root -   embedding chunk number: 42/124\n",
      "10/19/2019 21:42:14 - INFO - root -   embedding chunk number: 43/124\n",
      "10/19/2019 21:45:46 - INFO - root -   embedding chunk number: 44/124\n",
      "10/19/2019 21:49:10 - INFO - root -   embedding chunk number: 45/124\n",
      "10/19/2019 21:52:40 - INFO - root -   embedding chunk number: 46/124\n",
      "10/19/2019 21:55:58 - INFO - root -   embedding chunk number: 47/124\n",
      "10/19/2019 21:59:18 - INFO - root -   embedding chunk number: 48/124\n",
      "10/19/2019 22:02:37 - INFO - root -   embedding chunk number: 49/124\n",
      "10/19/2019 22:05:56 - INFO - root -   embedding chunk number: 50/124\n",
      "10/19/2019 22:09:13 - INFO - root -   embedding chunk number: 51/124\n",
      "10/19/2019 22:12:31 - INFO - root -   embedding chunk number: 52/124\n",
      "10/19/2019 22:15:55 - INFO - root -   embedding chunk number: 53/124\n",
      "10/19/2019 22:19:17 - INFO - root -   embedding chunk number: 54/124\n",
      "10/19/2019 22:22:38 - INFO - root -   embedding chunk number: 55/124\n",
      "10/19/2019 22:25:56 - INFO - root -   embedding chunk number: 56/124\n",
      "10/19/2019 22:29:16 - INFO - root -   embedding chunk number: 57/124\n",
      "10/19/2019 22:32:35 - INFO - root -   embedding chunk number: 58/124\n",
      "10/19/2019 22:35:56 - INFO - root -   embedding chunk number: 59/124\n",
      "10/19/2019 22:39:29 - INFO - root -   embedding chunk number: 60/124\n",
      "10/19/2019 22:42:53 - INFO - root -   embedding chunk number: 61/124\n",
      "10/19/2019 22:46:16 - INFO - root -   embedding chunk number: 62/124\n",
      "10/19/2019 22:49:36 - INFO - root -   embedding chunk number: 63/124\n",
      "10/19/2019 22:53:04 - INFO - root -   embedding chunk number: 64/124\n",
      "10/19/2019 22:56:36 - INFO - root -   embedding chunk number: 65/124\n",
      "10/19/2019 22:59:56 - INFO - root -   embedding chunk number: 66/124\n",
      "10/19/2019 23:03:15 - INFO - root -   embedding chunk number: 67/124\n",
      "10/19/2019 23:06:35 - INFO - root -   embedding chunk number: 68/124\n",
      "10/19/2019 23:09:52 - INFO - root -   embedding chunk number: 69/124\n",
      "10/19/2019 23:13:13 - INFO - root -   embedding chunk number: 70/124\n",
      "10/19/2019 23:16:33 - INFO - root -   embedding chunk number: 71/124\n",
      "10/19/2019 23:19:59 - INFO - root -   embedding chunk number: 72/124\n",
      "10/19/2019 23:23:22 - INFO - root -   embedding chunk number: 73/124\n"
     ]
    },
    {
     "name": "stderr",
     "output_type": "stream",
     "text": [
      "10/19/2019 23:26:40 - INFO - root -   embedding chunk number: 74/124\n",
      "10/19/2019 23:29:59 - INFO - root -   embedding chunk number: 75/124\n",
      "10/19/2019 23:33:18 - INFO - root -   embedding chunk number: 76/124\n",
      "10/19/2019 23:36:38 - INFO - root -   embedding chunk number: 77/124\n",
      "10/19/2019 23:40:17 - INFO - root -   embedding chunk number: 78/124\n",
      "10/19/2019 23:43:34 - INFO - root -   embedding chunk number: 79/124\n",
      "10/19/2019 23:47:00 - INFO - root -   embedding chunk number: 80/124\n",
      "10/19/2019 23:50:31 - INFO - root -   embedding chunk number: 81/124\n",
      "10/19/2019 23:53:50 - INFO - root -   embedding chunk number: 82/124\n",
      "10/19/2019 23:57:10 - INFO - root -   embedding chunk number: 83/124\n",
      "10/20/2019 00:00:39 - INFO - root -   embedding chunk number: 84/124\n",
      "10/20/2019 00:03:59 - INFO - root -   embedding chunk number: 85/124\n",
      "10/20/2019 00:07:21 - INFO - root -   embedding chunk number: 86/124\n",
      "10/20/2019 00:10:50 - INFO - root -   embedding chunk number: 87/124\n",
      "10/20/2019 00:14:09 - INFO - root -   embedding chunk number: 88/124\n",
      "10/20/2019 00:17:32 - INFO - root -   embedding chunk number: 89/124\n",
      "10/20/2019 00:20:50 - INFO - root -   embedding chunk number: 90/124\n",
      "10/20/2019 00:24:08 - INFO - root -   embedding chunk number: 91/124\n",
      "10/20/2019 00:27:32 - INFO - root -   embedding chunk number: 92/124\n",
      "10/20/2019 00:30:52 - INFO - root -   embedding chunk number: 93/124\n",
      "10/20/2019 00:34:12 - INFO - root -   embedding chunk number: 94/124\n",
      "10/20/2019 00:37:31 - INFO - root -   embedding chunk number: 95/124\n",
      "10/20/2019 00:40:56 - INFO - root -   embedding chunk number: 96/124\n",
      "10/20/2019 00:44:15 - INFO - root -   embedding chunk number: 97/124\n",
      "10/20/2019 00:47:35 - INFO - root -   embedding chunk number: 98/124\n",
      "10/20/2019 00:50:54 - INFO - root -   embedding chunk number: 99/124\n",
      "10/20/2019 00:54:14 - INFO - root -   embedding chunk number: 100/124\n",
      "10/20/2019 00:57:39 - INFO - root -   embedding chunk number: 101/124\n",
      "10/20/2019 01:01:06 - INFO - root -   embedding chunk number: 102/124\n",
      "10/20/2019 01:04:30 - INFO - root -   embedding chunk number: 103/124\n",
      "10/20/2019 01:07:53 - INFO - root -   embedding chunk number: 104/124\n",
      "10/20/2019 01:11:21 - INFO - root -   embedding chunk number: 105/124\n",
      "10/20/2019 01:14:49 - INFO - root -   embedding chunk number: 106/124\n",
      "10/20/2019 01:18:18 - INFO - root -   embedding chunk number: 107/124\n",
      "10/20/2019 01:21:42 - INFO - root -   embedding chunk number: 108/124\n",
      "10/20/2019 01:25:02 - INFO - root -   embedding chunk number: 109/124\n",
      "10/20/2019 01:28:25 - INFO - root -   embedding chunk number: 110/124\n",
      "10/20/2019 01:31:49 - INFO - root -   embedding chunk number: 111/124\n",
      "10/20/2019 01:35:11 - INFO - root -   embedding chunk number: 112/124\n",
      "10/20/2019 01:38:28 - INFO - root -   embedding chunk number: 113/124\n",
      "10/20/2019 01:41:47 - INFO - root -   embedding chunk number: 114/124\n",
      "10/20/2019 01:45:09 - INFO - root -   embedding chunk number: 115/124\n",
      "10/20/2019 01:48:29 - INFO - root -   embedding chunk number: 116/124\n",
      "10/20/2019 01:51:50 - INFO - root -   embedding chunk number: 117/124\n",
      "10/20/2019 01:55:09 - INFO - root -   embedding chunk number: 118/124\n",
      "10/20/2019 01:58:41 - INFO - root -   embedding chunk number: 119/124\n",
      "10/20/2019 02:02:14 - INFO - root -   embedding chunk number: 120/124\n",
      "10/20/2019 02:05:39 - INFO - root -   embedding chunk number: 121/124\n",
      "10/20/2019 02:09:12 - INFO - root -   embedding chunk number: 122/124\n",
      "10/20/2019 02:12:38 - INFO - root -   embedding chunk number: 123/124\n",
      "10/20/2019 02:16:08 - INFO - root -   embedding chunk number: 124/124\n",
      "10/20/2019 02:19:35 - INFO - root -   embedding chunk number: 125/124\n",
      "10/20/2019 02:22:55 - INFO - root -   embedding chunk number: 126/124\n",
      "10/20/2019 02:26:22 - INFO - root -   embedding chunk number: 127/124\n",
      "10/20/2019 02:29:39 - INFO - root -   embedding chunk number: 128/124\n",
      "10/20/2019 02:32:58 - INFO - root -   embedding chunk number: 129/124\n",
      "10/20/2019 02:36:16 - INFO - root -   embedding chunk number: 130/124\n",
      "10/20/2019 02:39:38 - INFO - root -   embedding chunk number: 131/124\n",
      "10/20/2019 02:42:58 - INFO - root -   embedding chunk number: 132/124\n",
      "10/20/2019 02:46:19 - INFO - root -   embedding chunk number: 133/124\n",
      "10/20/2019 02:49:39 - INFO - root -   embedding chunk number: 134/124\n",
      "10/20/2019 02:53:01 - INFO - root -   embedding chunk number: 135/124\n",
      "10/20/2019 02:56:29 - INFO - root -   embedding chunk number: 136/124\n",
      "10/20/2019 02:59:53 - INFO - root -   embedding chunk number: 137/124\n",
      "10/20/2019 03:03:18 - INFO - root -   embedding chunk number: 138/124\n",
      "10/20/2019 03:06:39 - INFO - root -   embedding chunk number: 139/124\n",
      "10/20/2019 03:10:02 - INFO - root -   embedding chunk number: 140/124\n",
      "10/20/2019 03:13:38 - INFO - root -   embedding chunk number: 141/124\n",
      "10/20/2019 03:16:58 - INFO - root -   embedding chunk number: 142/124\n",
      "10/20/2019 03:20:49 - INFO - root -   embedding chunk number: 143/124\n",
      "10/20/2019 03:24:11 - INFO - root -   embedding chunk number: 144/124\n",
      "10/20/2019 03:27:34 - INFO - root -   embedding chunk number: 145/124\n",
      "10/20/2019 03:30:54 - INFO - root -   embedding chunk number: 146/124\n",
      "10/20/2019 03:34:19 - INFO - root -   embedding chunk number: 147/124\n",
      "10/20/2019 03:37:40 - INFO - root -   embedding chunk number: 148/124\n",
      "10/20/2019 03:41:02 - INFO - root -   embedding chunk number: 149/124\n",
      "10/20/2019 03:44:20 - INFO - root -   embedding chunk number: 150/124\n",
      "10/20/2019 03:47:47 - INFO - root -   embedding chunk number: 151/124\n",
      "10/20/2019 03:51:10 - INFO - root -   embedding chunk number: 152/124\n",
      "10/20/2019 03:54:31 - INFO - root -   embedding chunk number: 153/124\n",
      "10/20/2019 03:57:51 - INFO - root -   embedding chunk number: 154/124\n",
      "10/20/2019 04:01:11 - INFO - root -   embedding chunk number: 155/124\n",
      "10/20/2019 04:04:30 - INFO - root -   embedding chunk number: 156/124\n",
      "10/20/2019 04:07:47 - INFO - root -   embedding chunk number: 157/124\n",
      "10/20/2019 04:11:05 - INFO - root -   embedding chunk number: 158/124\n",
      "10/20/2019 04:14:23 - INFO - root -   embedding chunk number: 159/124\n",
      "10/20/2019 04:17:42 - INFO - root -   embedding chunk number: 160/124\n",
      "10/20/2019 04:21:02 - INFO - root -   embedding chunk number: 161/124\n",
      "10/20/2019 04:24:20 - INFO - root -   embedding chunk number: 162/124\n",
      "10/20/2019 04:27:44 - INFO - root -   embedding chunk number: 163/124\n",
      "10/20/2019 04:31:06 - INFO - root -   embedding chunk number: 164/124\n",
      "10/20/2019 04:34:30 - INFO - root -   embedding chunk number: 165/124\n",
      "10/20/2019 04:37:50 - INFO - root -   embedding chunk number: 166/124\n",
      "10/20/2019 04:41:09 - INFO - root -   embedding chunk number: 167/124\n",
      "10/20/2019 04:44:29 - INFO - root -   embedding chunk number: 168/124\n",
      "10/20/2019 04:47:48 - INFO - root -   embedding chunk number: 169/124\n",
      "10/20/2019 04:51:31 - INFO - root -   embedding chunk number: 170/124\n",
      "10/20/2019 04:54:53 - INFO - root -   embedding chunk number: 171/124\n",
      "10/20/2019 04:58:18 - INFO - root -   embedding chunk number: 172/124\n",
      "10/20/2019 05:01:38 - INFO - root -   embedding chunk number: 173/124\n",
      "10/20/2019 05:05:05 - INFO - root -   embedding chunk number: 174/124\n",
      "10/20/2019 05:08:25 - INFO - root -   embedding chunk number: 175/124\n",
      "10/20/2019 05:11:49 - INFO - root -   embedding chunk number: 176/124\n",
      "10/20/2019 05:15:07 - INFO - root -   embedding chunk number: 177/124\n",
      "10/20/2019 05:18:30 - INFO - root -   embedding chunk number: 178/124\n",
      "10/20/2019 05:21:50 - INFO - root -   embedding chunk number: 179/124\n",
      "10/20/2019 05:25:13 - INFO - root -   embedding chunk number: 180/124\n",
      "10/20/2019 05:28:32 - INFO - root -   embedding chunk number: 181/124\n",
      "10/20/2019 05:31:51 - INFO - root -   embedding chunk number: 182/124\n",
      "10/20/2019 05:35:28 - INFO - root -   embedding chunk number: 183/124\n",
      "10/20/2019 05:38:49 - INFO - root -   embedding chunk number: 184/124\n",
      "10/20/2019 05:42:13 - INFO - root -   embedding chunk number: 185/124\n",
      "10/20/2019 05:45:35 - INFO - root -   embedding chunk number: 186/124\n",
      "10/20/2019 05:48:56 - INFO - root -   embedding chunk number: 187/124\n",
      "10/20/2019 05:52:17 - INFO - root -   embedding chunk number: 188/124\n",
      "10/20/2019 05:55:40 - INFO - root -   embedding chunk number: 189/124\n",
      "10/20/2019 05:59:00 - INFO - root -   embedding chunk number: 190/124\n",
      "10/20/2019 06:02:20 - INFO - root -   embedding chunk number: 191/124\n"
     ]
    },
    {
     "name": "stderr",
     "output_type": "stream",
     "text": [
      "10/20/2019 06:05:39 - INFO - root -   embedding chunk number: 192/124\n",
      "10/20/2019 06:09:02 - INFO - root -   embedding chunk number: 193/124\n",
      "10/20/2019 06:12:22 - INFO - root -   embedding chunk number: 194/124\n",
      "10/20/2019 06:15:42 - INFO - root -   embedding chunk number: 195/124\n",
      "10/20/2019 06:19:02 - INFO - root -   embedding chunk number: 196/124\n",
      "10/20/2019 06:22:22 - INFO - root -   embedding chunk number: 197/124\n",
      "10/20/2019 06:25:58 - INFO - root -   embedding chunk number: 198/124\n",
      "10/20/2019 06:29:19 - INFO - root -   embedding chunk number: 199/124\n",
      "10/20/2019 06:32:38 - INFO - root -   embedding chunk number: 200/124\n",
      "10/20/2019 06:35:59 - INFO - root -   embedding chunk number: 201/124\n",
      "10/20/2019 06:39:16 - INFO - root -   embedding chunk number: 202/124\n",
      "10/20/2019 06:42:34 - INFO - root -   embedding chunk number: 203/124\n",
      "10/20/2019 06:45:59 - INFO - root -   embedding chunk number: 204/124\n",
      "10/20/2019 06:49:21 - INFO - root -   embedding chunk number: 205/124\n",
      "10/20/2019 06:53:14 - INFO - root -   embedding chunk number: 206/124\n",
      "10/20/2019 06:56:40 - INFO - root -   embedding chunk number: 207/124\n",
      "10/20/2019 06:59:59 - INFO - root -   embedding chunk number: 208/124\n",
      "10/20/2019 07:03:18 - INFO - root -   embedding chunk number: 209/124\n",
      "10/20/2019 07:06:38 - INFO - root -   embedding chunk number: 210/124\n",
      "10/20/2019 07:10:02 - INFO - root -   embedding chunk number: 211/124\n",
      "10/20/2019 07:13:22 - INFO - root -   embedding chunk number: 212/124\n",
      "10/20/2019 07:16:44 - INFO - root -   embedding chunk number: 213/124\n",
      "10/20/2019 07:20:15 - INFO - root -   embedding chunk number: 214/124\n",
      "10/20/2019 07:23:39 - INFO - root -   embedding chunk number: 215/124\n",
      "10/20/2019 07:27:18 - INFO - root -   embedding chunk number: 216/124\n",
      "10/20/2019 07:30:36 - INFO - root -   embedding chunk number: 217/124\n",
      "10/20/2019 07:34:02 - INFO - root -   embedding chunk number: 218/124\n",
      "10/20/2019 07:37:27 - INFO - root -   embedding chunk number: 219/124\n",
      "10/20/2019 07:40:52 - INFO - root -   embedding chunk number: 220/124\n",
      "10/20/2019 07:44:23 - INFO - root -   embedding chunk number: 221/124\n",
      "10/20/2019 07:47:48 - INFO - root -   embedding chunk number: 222/124\n",
      "10/20/2019 07:51:06 - INFO - root -   embedding chunk number: 223/124\n",
      "10/20/2019 07:54:30 - INFO - root -   embedding chunk number: 224/124\n",
      "10/20/2019 07:57:52 - INFO - root -   embedding chunk number: 225/124\n",
      "10/20/2019 08:01:17 - INFO - root -   embedding chunk number: 226/124\n",
      "10/20/2019 08:04:38 - INFO - root -   embedding chunk number: 227/124\n",
      "10/20/2019 08:08:00 - INFO - root -   embedding chunk number: 228/124\n",
      "10/20/2019 08:11:20 - INFO - root -   embedding chunk number: 229/124\n",
      "10/20/2019 08:14:40 - INFO - root -   embedding chunk number: 230/124\n",
      "10/20/2019 08:18:01 - INFO - root -   embedding chunk number: 231/124\n",
      "10/20/2019 08:21:20 - INFO - root -   embedding chunk number: 232/124\n",
      "10/20/2019 08:24:38 - INFO - root -   embedding chunk number: 233/124\n",
      "10/20/2019 08:28:02 - INFO - root -   embedding chunk number: 234/124\n",
      "10/20/2019 08:31:21 - INFO - root -   embedding chunk number: 235/124\n",
      "10/20/2019 08:34:44 - INFO - root -   embedding chunk number: 236/124\n",
      "10/20/2019 08:38:06 - INFO - root -   embedding chunk number: 237/124\n",
      "10/20/2019 08:41:26 - INFO - root -   embedding chunk number: 238/124\n",
      "10/20/2019 08:45:00 - INFO - root -   embedding chunk number: 239/124\n",
      "10/20/2019 08:48:20 - INFO - root -   embedding chunk number: 240/124\n",
      "10/20/2019 08:51:40 - INFO - root -   embedding chunk number: 241/124\n",
      "10/20/2019 08:55:02 - INFO - root -   embedding chunk number: 242/124\n",
      "10/20/2019 08:58:22 - INFO - root -   embedding chunk number: 243/124\n",
      "10/20/2019 09:01:40 - INFO - root -   embedding chunk number: 244/124\n",
      "10/20/2019 09:05:00 - INFO - root -   embedding chunk number: 245/124\n",
      "10/20/2019 09:08:25 - INFO - root -   embedding chunk number: 246/124\n",
      "10/20/2019 09:11:54 - INFO - root -   embedding chunk number: 247/124\n",
      "10/20/2019 09:15:23 - INFO - root -   embedding chunk number: 248/124\n"
     ]
    },
    {
     "ename": "KeyboardInterrupt",
     "evalue": "",
     "output_type": "error",
     "traceback": [
      "\u001b[0;31m---------------------------------------------------------------------------\u001b[0m",
      "\u001b[0;31mKeyboardInterrupt\u001b[0m                         Traceback (most recent call last)",
      "\u001b[0;32m<ipython-input-9-9620eb07fab6>\u001b[0m in \u001b[0;36m<module>\u001b[0;34m\u001b[0m\n\u001b[1;32m      1\u001b[0m get_doc_representations(input_email_text_file=os.path.join(\"input_data\", \"email_texts.csv\"),\n\u001b[0;32m----> 2\u001b[0;31m                         output_embedding_file=os.path.join(\"input_data\", \"email_embeddings.csv\"))\n\u001b[0m",
      "\u001b[0;32m~/ai-advisor/document_representations_bert.py\u001b[0m in \u001b[0;36mget_doc_representations\u001b[0;34m(input_email_text_file, output_embedding_file)\u001b[0m\n\u001b[1;32m     68\u001b[0m         \u001b[0mmodel\u001b[0m\u001b[0;34m.\u001b[0m\u001b[0mto\u001b[0m\u001b[0;34m(\u001b[0m\u001b[0margs\u001b[0m\u001b[0;34m[\u001b[0m\u001b[0;34m\"device\"\u001b[0m\u001b[0;34m]\u001b[0m\u001b[0;34m)\u001b[0m\u001b[0;34m\u001b[0m\u001b[0m\n\u001b[1;32m     69\u001b[0m \u001b[0;34m\u001b[0m\u001b[0m\n\u001b[0;32m---> 70\u001b[0;31m     \u001b[0mbatch_doc_representations\u001b[0m\u001b[0;34m(\u001b[0m\u001b[0minput_email_text_file\u001b[0m\u001b[0;34m,\u001b[0m \u001b[0moutput_embedding_file\u001b[0m\u001b[0;34m,\u001b[0m \u001b[0margs\u001b[0m\u001b[0;34m,\u001b[0m \u001b[0mtokenizer\u001b[0m\u001b[0;34m,\u001b[0m \u001b[0mmodel\u001b[0m\u001b[0;34m)\u001b[0m\u001b[0;34m\u001b[0m\u001b[0m\n\u001b[0m\u001b[1;32m     71\u001b[0m \u001b[0;34m\u001b[0m\u001b[0m\n\u001b[1;32m     72\u001b[0m     \u001b[0;32mreturn\u001b[0m\u001b[0;34m\u001b[0m\u001b[0m\n",
      "\u001b[0;32m~/ai-advisor/document_representations_bert.py\u001b[0m in \u001b[0;36mbatch_doc_representations\u001b[0;34m(input_email_text_file, output_embedding_file, args, tokenizer, model)\u001b[0m\n\u001b[1;32m     21\u001b[0m         \u001b[0mlogging\u001b[0m\u001b[0;34m.\u001b[0m\u001b[0minfo\u001b[0m\u001b[0;34m(\u001b[0m\u001b[0;34m\"embedding chunk number: {}/{}\"\u001b[0m\u001b[0;34m.\u001b[0m\u001b[0mformat\u001b[0m\u001b[0;34m(\u001b[0m\u001b[0mix\u001b[0m\u001b[0;34m,\u001b[0m \u001b[0margs\u001b[0m\u001b[0;34m[\u001b[0m\u001b[0;34m\"text_chunks\"\u001b[0m\u001b[0;34m]\u001b[0m\u001b[0;34m)\u001b[0m\u001b[0;34m)\u001b[0m\u001b[0;34m\u001b[0m\u001b[0m\n\u001b[1;32m     22\u001b[0m \u001b[0;34m\u001b[0m\u001b[0m\n\u001b[0;32m---> 23\u001b[0;31m         \u001b[0membeddings\u001b[0m \u001b[0;34m=\u001b[0m \u001b[0mget_bert_embeddings\u001b[0m\u001b[0;34m(\u001b[0m\u001b[0mchunk_df\u001b[0m\u001b[0;34m,\u001b[0m \u001b[0mtokenizer\u001b[0m\u001b[0;34m,\u001b[0m \u001b[0mmodel\u001b[0m\u001b[0;34m,\u001b[0m \u001b[0margs\u001b[0m\u001b[0;34m)\u001b[0m\u001b[0;34m\u001b[0m\u001b[0m\n\u001b[0m\u001b[1;32m     24\u001b[0m \u001b[0;34m\u001b[0m\u001b[0m\n\u001b[1;32m     25\u001b[0m         \u001b[0mchunk_df\u001b[0m\u001b[0;34m[\u001b[0m\u001b[0;34m\"embedding\"\u001b[0m\u001b[0;34m]\u001b[0m \u001b[0;34m=\u001b[0m \u001b[0mpd\u001b[0m\u001b[0;34m.\u001b[0m\u001b[0mSeries\u001b[0m\u001b[0;34m(\u001b[0m\u001b[0mlist\u001b[0m\u001b[0;34m(\u001b[0m\u001b[0membeddings\u001b[0m\u001b[0;34m)\u001b[0m\u001b[0;34m,\u001b[0m \u001b[0mindex\u001b[0m\u001b[0;34m=\u001b[0m\u001b[0mchunk_df\u001b[0m\u001b[0;34m.\u001b[0m\u001b[0mindex\u001b[0m\u001b[0;34m)\u001b[0m\u001b[0;34m\u001b[0m\u001b[0m\n",
      "\u001b[0;32m~/ai-advisor/bert_embeddings.py\u001b[0m in \u001b[0;36mget_bert_embeddings\u001b[0;34m(docs_list, tokenizer, model, args)\u001b[0m\n\u001b[1;32m     88\u001b[0m     \u001b[0mfeatures\u001b[0m \u001b[0;34m=\u001b[0m \u001b[0;34m[\u001b[0m\u001b[0;34m]\u001b[0m\u001b[0;34m\u001b[0m\u001b[0m\n\u001b[1;32m     89\u001b[0m     \u001b[0;32mfor\u001b[0m \u001b[0;34m(\u001b[0m\u001b[0mex_index\u001b[0m\u001b[0;34m,\u001b[0m \u001b[0mexample\u001b[0m\u001b[0;34m)\u001b[0m \u001b[0;32min\u001b[0m \u001b[0menumerate\u001b[0m\u001b[0;34m(\u001b[0m\u001b[0mdocument\u001b[0m\u001b[0;34m)\u001b[0m\u001b[0;34m:\u001b[0m\u001b[0;34m\u001b[0m\u001b[0m\n\u001b[0;32m---> 90\u001b[0;31m         \u001b[0mtokens_a\u001b[0m \u001b[0;34m=\u001b[0m \u001b[0mtokenizer\u001b[0m\u001b[0;34m.\u001b[0m\u001b[0mtokenize\u001b[0m\u001b[0;34m(\u001b[0m\u001b[0mstr\u001b[0m\u001b[0;34m(\u001b[0m\u001b[0mexample\u001b[0m\u001b[0;34m.\u001b[0m\u001b[0mtext_a\u001b[0m\u001b[0;34m)\u001b[0m\u001b[0;34m)\u001b[0m\u001b[0;34m\u001b[0m\u001b[0m\n\u001b[0m\u001b[1;32m     91\u001b[0m         \u001b[0;31m#         tokens_a = tokenizer.tokenize(example.text_a)\u001b[0m\u001b[0;34m\u001b[0m\u001b[0;34m\u001b[0m\u001b[0m\n\u001b[1;32m     92\u001b[0m \u001b[0;34m\u001b[0m\u001b[0m\n",
      "\u001b[0;32m~/miniconda3/envs/scaia/lib/python3.6/site-packages/pytorch_pretrained_bert/tokenization.py\u001b[0m in \u001b[0;36mtokenize\u001b[0;34m(self, text)\u001b[0m\n\u001b[1;32m    108\u001b[0m         \u001b[0msplit_tokens\u001b[0m \u001b[0;34m=\u001b[0m \u001b[0;34m[\u001b[0m\u001b[0;34m]\u001b[0m\u001b[0;34m\u001b[0m\u001b[0m\n\u001b[1;32m    109\u001b[0m         \u001b[0;32mif\u001b[0m \u001b[0mself\u001b[0m\u001b[0;34m.\u001b[0m\u001b[0mdo_basic_tokenize\u001b[0m\u001b[0;34m:\u001b[0m\u001b[0;34m\u001b[0m\u001b[0m\n\u001b[0;32m--> 110\u001b[0;31m             \u001b[0;32mfor\u001b[0m \u001b[0mtoken\u001b[0m \u001b[0;32min\u001b[0m \u001b[0mself\u001b[0m\u001b[0;34m.\u001b[0m\u001b[0mbasic_tokenizer\u001b[0m\u001b[0;34m.\u001b[0m\u001b[0mtokenize\u001b[0m\u001b[0;34m(\u001b[0m\u001b[0mtext\u001b[0m\u001b[0;34m)\u001b[0m\u001b[0;34m:\u001b[0m\u001b[0;34m\u001b[0m\u001b[0m\n\u001b[0m\u001b[1;32m    111\u001b[0m                 \u001b[0;32mfor\u001b[0m \u001b[0msub_token\u001b[0m \u001b[0;32min\u001b[0m \u001b[0mself\u001b[0m\u001b[0;34m.\u001b[0m\u001b[0mwordpiece_tokenizer\u001b[0m\u001b[0;34m.\u001b[0m\u001b[0mtokenize\u001b[0m\u001b[0;34m(\u001b[0m\u001b[0mtoken\u001b[0m\u001b[0;34m)\u001b[0m\u001b[0;34m:\u001b[0m\u001b[0;34m\u001b[0m\u001b[0m\n\u001b[1;32m    112\u001b[0m                     \u001b[0msplit_tokens\u001b[0m\u001b[0;34m.\u001b[0m\u001b[0mappend\u001b[0m\u001b[0;34m(\u001b[0m\u001b[0msub_token\u001b[0m\u001b[0;34m)\u001b[0m\u001b[0;34m\u001b[0m\u001b[0m\n",
      "\u001b[0;32m~/miniconda3/envs/scaia/lib/python3.6/site-packages/pytorch_pretrained_bert/tokenization.py\u001b[0m in \u001b[0;36mtokenize\u001b[0;34m(self, text)\u001b[0m\n\u001b[1;32m    215\u001b[0m     \u001b[0;32mdef\u001b[0m \u001b[0mtokenize\u001b[0m\u001b[0;34m(\u001b[0m\u001b[0mself\u001b[0m\u001b[0;34m,\u001b[0m \u001b[0mtext\u001b[0m\u001b[0;34m)\u001b[0m\u001b[0;34m:\u001b[0m\u001b[0;34m\u001b[0m\u001b[0m\n\u001b[1;32m    216\u001b[0m         \u001b[0;34m\"\"\"Tokenizes a piece of text.\"\"\"\u001b[0m\u001b[0;34m\u001b[0m\u001b[0m\n\u001b[0;32m--> 217\u001b[0;31m         \u001b[0mtext\u001b[0m \u001b[0;34m=\u001b[0m \u001b[0mself\u001b[0m\u001b[0;34m.\u001b[0m\u001b[0m_clean_text\u001b[0m\u001b[0;34m(\u001b[0m\u001b[0mtext\u001b[0m\u001b[0;34m)\u001b[0m\u001b[0;34m\u001b[0m\u001b[0m\n\u001b[0m\u001b[1;32m    218\u001b[0m         \u001b[0;31m# This was added on November 1st, 2018 for the multilingual and Chinese\u001b[0m\u001b[0;34m\u001b[0m\u001b[0;34m\u001b[0m\u001b[0m\n\u001b[1;32m    219\u001b[0m         \u001b[0;31m# models. This is also applied to the English models now, but it doesn't\u001b[0m\u001b[0;34m\u001b[0m\u001b[0;34m\u001b[0m\u001b[0m\n",
      "\u001b[0;32m~/miniconda3/envs/scaia/lib/python3.6/site-packages/pytorch_pretrained_bert/tokenization.py\u001b[0m in \u001b[0;36m_clean_text\u001b[0;34m(self, text)\u001b[0m\n\u001b[1;32m    309\u001b[0m             \u001b[0;32mif\u001b[0m \u001b[0mcp\u001b[0m \u001b[0;34m==\u001b[0m \u001b[0;36m0\u001b[0m \u001b[0;32mor\u001b[0m \u001b[0mcp\u001b[0m \u001b[0;34m==\u001b[0m \u001b[0;36m0xfffd\u001b[0m \u001b[0;32mor\u001b[0m \u001b[0m_is_control\u001b[0m\u001b[0;34m(\u001b[0m\u001b[0mchar\u001b[0m\u001b[0;34m)\u001b[0m\u001b[0;34m:\u001b[0m\u001b[0;34m\u001b[0m\u001b[0m\n\u001b[1;32m    310\u001b[0m                 \u001b[0;32mcontinue\u001b[0m\u001b[0;34m\u001b[0m\u001b[0m\n\u001b[0;32m--> 311\u001b[0;31m             \u001b[0;32mif\u001b[0m \u001b[0m_is_whitespace\u001b[0m\u001b[0;34m(\u001b[0m\u001b[0mchar\u001b[0m\u001b[0;34m)\u001b[0m\u001b[0;34m:\u001b[0m\u001b[0;34m\u001b[0m\u001b[0m\n\u001b[0m\u001b[1;32m    312\u001b[0m                 \u001b[0moutput\u001b[0m\u001b[0;34m.\u001b[0m\u001b[0mappend\u001b[0m\u001b[0;34m(\u001b[0m\u001b[0;34m\" \"\u001b[0m\u001b[0;34m)\u001b[0m\u001b[0;34m\u001b[0m\u001b[0m\n\u001b[1;32m    313\u001b[0m             \u001b[0;32melse\u001b[0m\u001b[0;34m:\u001b[0m\u001b[0;34m\u001b[0m\u001b[0m\n",
      "\u001b[0;32m~/miniconda3/envs/scaia/lib/python3.6/site-packages/pytorch_pretrained_bert/tokenization.py\u001b[0m in \u001b[0;36m_is_whitespace\u001b[0;34m(char)\u001b[0m\n\u001b[1;32m    382\u001b[0m     \u001b[0;32mif\u001b[0m \u001b[0mchar\u001b[0m \u001b[0;34m==\u001b[0m \u001b[0;34m\" \"\u001b[0m \u001b[0;32mor\u001b[0m \u001b[0mchar\u001b[0m \u001b[0;34m==\u001b[0m \u001b[0;34m\"\\t\"\u001b[0m \u001b[0;32mor\u001b[0m \u001b[0mchar\u001b[0m \u001b[0;34m==\u001b[0m \u001b[0;34m\"\\n\"\u001b[0m \u001b[0;32mor\u001b[0m \u001b[0mchar\u001b[0m \u001b[0;34m==\u001b[0m \u001b[0;34m\"\\r\"\u001b[0m\u001b[0;34m:\u001b[0m\u001b[0;34m\u001b[0m\u001b[0m\n\u001b[1;32m    383\u001b[0m         \u001b[0;32mreturn\u001b[0m \u001b[0;32mTrue\u001b[0m\u001b[0;34m\u001b[0m\u001b[0m\n\u001b[0;32m--> 384\u001b[0;31m     \u001b[0mcat\u001b[0m \u001b[0;34m=\u001b[0m \u001b[0municodedata\u001b[0m\u001b[0;34m.\u001b[0m\u001b[0mcategory\u001b[0m\u001b[0;34m(\u001b[0m\u001b[0mchar\u001b[0m\u001b[0;34m)\u001b[0m\u001b[0;34m\u001b[0m\u001b[0m\n\u001b[0m\u001b[1;32m    385\u001b[0m     \u001b[0;32mif\u001b[0m \u001b[0mcat\u001b[0m \u001b[0;34m==\u001b[0m \u001b[0;34m\"Zs\"\u001b[0m\u001b[0;34m:\u001b[0m\u001b[0;34m\u001b[0m\u001b[0m\n\u001b[1;32m    386\u001b[0m         \u001b[0;32mreturn\u001b[0m \u001b[0;32mTrue\u001b[0m\u001b[0;34m\u001b[0m\u001b[0m\n",
      "\u001b[0;31mKeyboardInterrupt\u001b[0m: "
     ]
    }
   ],
   "source": [
    "get_doc_representations(input_email_text_file=os.path.join(\"input_data\", \"enron_texts.csv\"),\n",
    "                        output_embedding_file=os.path.join(\"input_data\", \"enron_embeddings.csv\"))"
   ]
  },
  {
   "cell_type": "markdown",
   "metadata": {},
   "source": [
    "Stopped above line after a while, as there are 1043264 records and 124 records per chunk, we would need to process 8414 times, and this would take more than a week to process, hence stopped. We still have good amount of data, i.e., 247*124 = 30628"
   ]
  },
  {
   "cell_type": "markdown",
   "metadata": {},
   "source": [
    "# Nearest Neighbors - Jaccard"
   ]
  },
  {
   "cell_type": "code",
   "execution_count": 1,
   "metadata": {},
   "outputs": [],
   "source": [
    "import os\n",
    "from nn_similarity import train_nn, test_nn"
   ]
  },
  {
   "cell_type": "code",
   "execution_count": 2,
   "metadata": {},
   "outputs": [
    {
     "name": "stdout",
     "output_type": "stream",
     "text": [
      "Model saved to: input_data/enron_jaccard_model.pkl\n"
     ]
    }
   ],
   "source": [
    "# train model\n",
    "train_nn(embeddings_file_path = os.path.join(\"input_data\", \"enron_embeddings.csv\"), \n",
    "         distance_type=\"jaccard\", \n",
    "         file_prefix=\"enron\")"
   ]
  },
  {
   "cell_type": "code",
   "execution_count": 5,
   "metadata": {},
   "outputs": [],
   "source": [
    "# test model on same train data\n",
    "test_nn(embeddings_file_path = os.path.join(\"input_data\", \"enron_embeddings.csv\"), \n",
    "        distance_type=\"jaccard\", \n",
    "        file_prefix=\"enron\")"
   ]
  },
  {
   "cell_type": "markdown",
   "metadata": {},
   "source": [
    "# Nearest Neighbors - Cosine"
   ]
  },
  {
   "cell_type": "code",
   "execution_count": 2,
   "metadata": {},
   "outputs": [],
   "source": [
    "import os\n",
    "from nn_similarity import train_nn, test_nn"
   ]
  },
  {
   "cell_type": "code",
   "execution_count": 7,
   "metadata": {},
   "outputs": [
    {
     "name": "stdout",
     "output_type": "stream",
     "text": [
      "Model saved to: input_data/enron_cosine_model.pkl\n"
     ]
    }
   ],
   "source": [
    "# train model\n",
    "train_nn(embeddings_file_path = os.path.join(\"input_data\", \"enron_embeddings.csv\"), \n",
    "         distance_type=\"cosine\", \n",
    "         file_prefix=\"enron\")"
   ]
  },
  {
   "cell_type": "code",
   "execution_count": 3,
   "metadata": {},
   "outputs": [],
   "source": [
    "# test model on same train data\n",
    "test_nn(embeddings_file_path = os.path.join(\"input_data\", \"enron_embeddings.csv\"), \n",
    "        distance_type=\"cosine\",\n",
    "       file_prefix=\"enron\")"
   ]
  },
  {
   "cell_type": "markdown",
   "metadata": {},
   "source": [
    "# Doc2Vec"
   ]
  },
  {
   "cell_type": "code",
   "execution_count": 4,
   "metadata": {},
   "outputs": [],
   "source": [
    "import os\n",
    "from doc2vec_similarity import train_doc2vec, test_doc2vec"
   ]
  },
  {
   "cell_type": "code",
   "execution_count": 2,
   "metadata": {},
   "outputs": [
    {
     "name": "stdout",
     "output_type": "stream",
     "text": [
      "Model saved to: input_data/doc2vec_model.bin\n"
     ]
    }
   ],
   "source": [
    "train_doc2vec(model_file_name = os.path.join(\"input_data\", \"enron_doc2vec_model.bin\"), \n",
    "              embeddings_file_path = os.path.join(\"input_data\", \"enron_embeddings.csv\"))"
   ]
  },
  {
   "cell_type": "code",
   "execution_count": 5,
   "metadata": {},
   "outputs": [
    {
     "name": "stdout",
     "output_type": "stream",
     "text": [
      "Results saved to: input_data/doc2vec_model.bin\n"
     ]
    }
   ],
   "source": [
    "test_doc2vec(embeddings_file_path = os.path.join(\"input_data\", \"enron_embeddings.csv\"), \n",
    "             model_file_name = os.path.join(\"input_data\", \"enron_doc2vec_model.bin\"),\n",
    "             results_path = os.path.join(\"output_data\", \"enron_doc2vec_testing.csv\"))"
   ]
  },
  {
   "cell_type": "markdown",
   "metadata": {},
   "source": [
    "# Precision & Recall"
   ]
  },
  {
   "cell_type": "code",
   "execution_count": 8,
   "metadata": {},
   "outputs": [],
   "source": [
    "import os\n",
    "from precision_recall import p_r_f1_scores"
   ]
  },
  {
   "cell_type": "code",
   "execution_count": 10,
   "metadata": {},
   "outputs": [
    {
     "name": "stdout",
     "output_type": "stream",
     "text": [
      "\n",
      "Model Name:  bert_jaccard\n",
      "Precision:  bert_jaccard 1.0\n",
      "Recall:  bert_jaccard 1.0\n",
      "F1 score:  bert_jaccard 1.0\n",
      "\n",
      "Model Name:  bert_cosine\n",
      "Precision:  bert_cosine 1.0\n",
      "Recall:  bert_cosine 1.0\n",
      "F1 score:  bert_cosine 1.0\n",
      "\n",
      "Model Name:  doc2vec\n",
      "Precision:  doc2vec 1.0\n",
      "Recall:  doc2vec 0.5570369406867846\n",
      "F1 score:  doc2vec 0.7155089595255002\n"
     ]
    }
   ],
   "source": [
    "p_r_f1_scores(jacc_results_path       = os.path.join(\"output_data\", \"enron_bert_testing_jaccard.csv\"),\n",
    "              cos_results_path        = os.path.join(\"output_data\", \"enron_bert_testing_cosine.csv\"),\n",
    "              doc2vec_results_path    = os.path.join(\"output_data\", \"enron_doc2vec_testing.csv\"))"
   ]
  },
  {
   "cell_type": "code",
   "execution_count": null,
   "metadata": {},
   "outputs": [],
   "source": []
  }
 ],
 "metadata": {
  "kernelspec": {
   "display_name": "Python 3",
   "language": "python",
   "name": "python3"
  },
  "language_info": {
   "codemirror_mode": {
    "name": "ipython",
    "version": 3
   },
   "file_extension": ".py",
   "mimetype": "text/x-python",
   "name": "python",
   "nbconvert_exporter": "python",
   "pygments_lexer": "ipython3",
   "version": "3.6.2"
  },
  "toc": {
   "base_numbering": 1,
   "nav_menu": {
    "height": "274px",
    "width": "414px"
   },
   "number_sections": true,
   "sideBar": true,
   "skip_h1_title": false,
   "title_cell": "Table of Contents",
   "title_sidebar": "Contents",
   "toc_cell": true,
   "toc_position": {},
   "toc_section_display": true,
   "toc_window_display": false
  }
 },
 "nbformat": 4,
 "nbformat_minor": 2
}
