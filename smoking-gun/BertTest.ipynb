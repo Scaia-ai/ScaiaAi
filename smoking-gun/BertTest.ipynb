{
 "cells": [
  {
   "cell_type": "code",
   "execution_count": null,
   "metadata": {
    "pycharm": {
     "name": "#%%\n"
    }
   },
   "outputs": [],
   "source": []
  },
  {
   "cell_type": "markdown",
   "metadata": {},
   "source": [
    "<h1>Table of Contents<span class=\"tocSkip\"></span></h1>\n",
    "<div class=\"toc\"><ul class=\"toc-item\"><li><span><a href=\"#To-download-Test-Data-from-github\" data-toc-modified-id=\"To-download-Test-Data-from-github-1\"><span class=\"toc-item-num\">1&nbsp;&nbsp;</span>To download Tesla Docs from github</a></span></li><li><span><a href=\"#Process-Tesla-Docs\" data-toc-modified-id=\"Process-Tesla-Docs-2\"><span class=\"toc-item-num\">2&nbsp;&nbsp;</span>Process Tesla Docs</a></span></li><li><span><a href=\"#Create-Bert-Embeddings-for-Tesla-Docs\" data-toc-modified-id=\"Create-Bert-Embeddings-for-Tesla-Docs-3\"><span class=\"toc-item-num\">3&nbsp;&nbsp;</span>Create Bert Embeddings for Tesla Docs</a></span></li><li><span><a href=\"#Nearest-Neighbors---Jaccard\" data-toc-modified-id=\"Nearest-Neighbors---Jaccard-4\"><span class=\"toc-item-num\">4&nbsp;&nbsp;</span>Nearest Neighbors - Jaccard</a></span></li><li><span><a href=\"#Nearest-Neighbors---Cosine\" data-toc-modified-id=\"Nearest-Neighbors---Cosine-5\"><span class=\"toc-item-num\">5&nbsp;&nbsp;</span>Nearest Neighbors - Cosine</a></span></li><li><span><a href=\"#Doc2Vec\" data-toc-modified-id=\"Doc2Vec-6\"><span class=\"toc-item-num\">6&nbsp;&nbsp;</span>Doc2Vec</a></span></li><li><span><a href=\"#Precision-&amp;-Recall\" data-toc-modified-id=\"Precision-&amp;-Recall-7\"><span class=\"toc-item-num\">7&nbsp;&nbsp;</span>Precision &amp; Recall</a></span></li></ul></div>"
   ]
  },
  {
   "cell_type": "markdown",
   "metadata": {},
   "source": [
    "#  To download Test Data from github"
   ]
  },
  {
   "cell_type": "code",
   "execution_count": null,
   "metadata": {
    "pycharm": {
     "name": "#%%\n"
    }
   },
   "outputs": [],
   "source": [
    "import os\n",
    "from get_test_data import clone_test_data"
   ]
  },
  {
   "cell_type": "code",
   "execution_count": null,
   "metadata": {
    "pycharm": {
     "name": "#%%\n"
    }
   },
   "outputs": [],
   "source": [
    "clone_test_data(download_to_folder = os.path.join(\"input_data\", \"emails\"))"
   ]
  },
  {
   "cell_type": "markdown",
   "metadata": {},
   "source": [
    "# Process Telsa Docs"
   ]
  },
  {
   "cell_type": "code",
   "execution_count": null,
   "metadata": {
    "pycharm": {
     "name": "#%%\n"
    }
   },
   "outputs": [],
   "source": [
    "\n",
    "from process_data import process_emails"
   ]
  },
  {
   "cell_type": "code",
   "execution_count": null,
   "metadata": {
    "pycharm": {
     "name": "#%%\n"
    }
   },
   "outputs": [],
   "source": [
    "process_emails(data_folder = os.path.join(\"input_data\", \"emails\"), email_text_file = os.path.join(\"input_data\", \"enron_texts.csv\"))"
   ]
  },
  {
   "cell_type": "markdown",
   "metadata": {},
   "source": [
    "# Create Bert Embeddings for Telsa"
   ]
  },
  {
   "cell_type": "code",
   "execution_count": null,
   "metadata": {
    "pycharm": {
     "name": "#%%\n"
    }
   },
   "outputs": [],
   "source": [
    "from document_representations_bert import get_doc_representations"
   ]
  },
  {
   "cell_type": "code",
   "execution_count": null,
   "metadata": {
    "pycharm": {
     "name": "#%%\n"
    }
   },
   "outputs": [],
   "source": [
    "get_doc_representations(input_email_text_file=os.path.join(\"input_data\", \"enron_texts.csv\"),\n",
    "                        output_embedding_file=os.path.join(\"input_data\", \"enron_embeddings.csv\"))"
   ]
  },
  {
   "cell_type": "markdown",
   "metadata": {},
   "source": []
  },
  {
   "cell_type": "markdown",
   "metadata": {},
   "source": [
    "# Nearest Neighbors - Jaccard"
   ]
  },
  {
   "cell_type": "code",
   "execution_count": null,
   "metadata": {
    "pycharm": {
     "name": "#%%\n"
    }
   },
   "outputs": [],
   "source": [
    "\n",
    "from nn_similarity import train_nn, test_nn"
   ]
  },
  {
   "cell_type": "code",
   "execution_count": null,
   "metadata": {
    "pycharm": {
     "name": "#%%\n"
    }
   },
   "outputs": [],
   "source": [
    "# train model\n",
    "train_nn(embeddings_file_path = os.path.join(\"input_data\", \"enron_embeddings.csv\"), \n",
    "         distance_type=\"jaccard\", \n",
    "         file_prefix=\"enron\")"
   ]
  },
  {
   "cell_type": "code",
   "execution_count": null,
   "metadata": {
    "pycharm": {
     "name": "#%%\n"
    }
   },
   "outputs": [],
   "source": [
    "# test model on same train data\n",
    "test_nn(embeddings_file_path = os.path.join(\"input_data\", \"enron_embeddings.csv\"), \n",
    "        distance_type=\"jaccard\", \n",
    "        file_prefix=\"enron\")"
   ]
  },
  {
   "cell_type": "markdown",
   "metadata": {},
   "source": [
    "# Nearest Neighbors - Cosine"
   ]
  },
  {
   "cell_type": "code",
   "execution_count": null,
   "metadata": {
    "pycharm": {
     "name": "#%%\n"
    }
   },
   "outputs": [],
   "source": [
    "import os\n",
    "from nn_similarity import train_nn, test_nn"
   ]
  },
  {
   "cell_type": "code",
   "execution_count": null,
   "metadata": {
    "pycharm": {
     "name": "#%%\n"
    }
   },
   "outputs": [],
   "source": [
    "# train model\n",
    "train_nn(embeddings_file_path = os.path.join(\"input_data\", \"enron_embeddings.csv\"), \n",
    "         distance_type=\"cosine\", \n",
    "         file_prefix=\"enron\")"
   ]
  },
  {
   "cell_type": "code",
   "execution_count": null,
   "metadata": {
    "pycharm": {
     "name": "#%%\n"
    }
   },
   "outputs": [],
   "source": [
    "# test model on same train data\n",
    "test_nn(embeddings_file_path = os.path.join(\"input_data\", \"enron_embeddings.csv\"), \n",
    "        distance_type=\"cosine\",\n",
    "       file_prefix=\"enron\")"
   ]
  },
  {
   "cell_type": "markdown",
   "metadata": {},
   "source": [
    "# Doc2Vec"
   ]
  },
  {
   "cell_type": "code",
   "execution_count": null,
   "metadata": {
    "pycharm": {
     "name": "#%%\n"
    }
   },
   "outputs": [],
   "source": [
    "import os\n",
    "from doc2vec_similarity import train_doc2vec, test_doc2vec"
   ]
  },
  {
   "cell_type": "code",
   "execution_count": null,
   "metadata": {
    "pycharm": {
     "name": "#%%\n"
    }
   },
   "outputs": [],
   "source": [
    "train_doc2vec(model_file_name = os.path.join(\"input_data\", \"enron_doc2vec_model.bin\"), \n",
    "              embeddings_file_path = os.path.join(\"input_data\", \"enron_embeddings.csv\"))"
   ]
  },
  {
   "cell_type": "code",
   "execution_count": null,
   "metadata": {
    "pycharm": {
     "name": "#%%\n"
    }
   },
   "outputs": [],
   "source": [
    "test_doc2vec(embeddings_file_path = os.path.join(\"input_data\", \"enron_embeddings.csv\"), \n",
    "             model_file_name = os.path.join(\"input_data\", \"enron_doc2vec_model.bin\"),\n",
    "             results_path = os.path.join(\"output_data\", \"enron_doc2vec_testing.csv\"))"
   ]
  },
  {
   "cell_type": "markdown",
   "metadata": {},
   "source": [
    "# Precision & Recall"
   ]
  },
  {
   "cell_type": "code",
   "execution_count": null,
   "metadata": {
    "pycharm": {
     "name": "#%%\n"
    }
   },
   "outputs": [],
   "source": [
    "import os\n",
    "from precision_recall import p_r_f1_scores"
   ]
  },
  {
   "cell_type": "code",
   "execution_count": null,
   "metadata": {
    "pycharm": {
     "name": "#%%\n"
    }
   },
   "outputs": [],
   "source": [
    "p_r_f1_scores(jacc_results_path       = os.path.join(\"output_data\", \"enron_bert_testing_jaccard.csv\"),\n",
    "              cos_results_path        = os.path.join(\"output_data\", \"enron_bert_testing_cosine.csv\"),\n",
    "              doc2vec_results_path    = os.path.join(\"output_data\", \"enron_doc2vec_testing.csv\"))"
   ]
  },
  {
   "cell_type": "code",
   "execution_count": null,
   "metadata": {
    "pycharm": {
     "name": "#%%\n"
    }
   },
   "outputs": [],
   "source": []
  }
 ],
 "metadata": {
  "kernelspec": {
   "display_name": "Python 3",
   "language": "python",
   "name": "python3"
  },
  "language_info": {
   "codemirror_mode": {
    "name": "ipython",
    "version": 3
   },
   "file_extension": ".py",
   "mimetype": "text/x-python",
   "name": "python",
   "nbconvert_exporter": "python",
   "pygments_lexer": "ipython3",
   "version": "3.6.4"
  },
  "pycharm": {
   "stem_cell": {
    "cell_type": "raw",
    "metadata": {
     "collapsed": false
    },
    "source": []
   }
  }
 },
 "nbformat": 4,
 "nbformat_minor": 1
}
