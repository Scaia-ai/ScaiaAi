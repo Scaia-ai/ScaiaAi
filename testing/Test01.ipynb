{
 "cells": [
  {
   "cell_type": "markdown",
   "metadata": {},
   "source": [
    "# Pre-test. Manually create the model.\n",
    "1. Get the data from the 'test-data' correct place\n",
    "2. Create BERT embeddings for this dataset\n",
    "3. Save the model\n",
    "\n",
    "# Test01 spec\n",
    "1. Read the model to test (hard code for now)\n",
    "2. Ask the question (that means, send the smoking-gun-input document, and the algorithm. But we ignore the algorithm for now).\n",
    "3. Ask the model, which is the smoking-gun-output document."
   ]
  },
  {
   "cell_type": "code",
   "execution_count": null,
   "metadata": {},
   "outputs": [],
   "source": []
  }
 ],
 "metadata": {
  "kernelspec": {
   "display_name": "Python 3",
   "language": "python",
   "name": "python3"
  },
  "language_info": {
   "codemirror_mode": {
    "name": "ipython",
    "version": 3
   },
   "file_extension": ".py",
   "mimetype": "text/x-python",
   "name": "python",
   "nbconvert_exporter": "python",
   "pygments_lexer": "ipython3",
   "version": "3.6.4"
  },
  "pycharm": {
   "stem_cell": {
    "cell_type": "raw",
    "metadata": {
     "collapsed": false
    },
    "source": []
   }
  }
 },
 "nbformat": 4,
 "nbformat_minor": 1
}
